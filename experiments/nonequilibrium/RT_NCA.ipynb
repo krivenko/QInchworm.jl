{
 "cells": [
  {
   "cell_type": "code",
   "execution_count": 1,
   "id": "7997ab58-7711-49d7-9d88-c6645c2e2ddf",
   "metadata": {},
   "outputs": [],
   "source": [
    "using Keldysh; kd = Keldysh\n",
    "using KeldyshED; ked = KeldyshED; op = KeldyshED.Operators\n",
    "\n",
    "using QInchworm.utility: ph_conj\n",
    "using QInchworm.expansion: Expansion, InteractionPair, add_corr_operators!\n",
    "using QInchworm.inchworm: inchworm!, correlator_2p\n",
    "using QInchworm.ppgf: partition_function, normalize!, density_matrix"
   ]
  },
  {
   "cell_type": "code",
   "execution_count": 2,
   "id": "b4f4241a-465b-4503-b16e-11ed3b8eabec",
   "metadata": {},
   "outputs": [
    {
     "data": {
      "text/plain": [
       "0.5"
      ]
     },
     "execution_count": 2,
     "metadata": {},
     "output_type": "execute_result"
    }
   ],
   "source": [
    "β = 1.0\n",
    "\n",
    "nt = 10\n",
    "ntau = 4\n",
    "tmax = 1.0\n",
    "\n",
    "ϵ = 0.1     # Position of the atomic level\n",
    "U = 1.0     # Coulomb repulsion constant\n",
    "D = 2.0     # Half-bandwidth of the bath DOS\n",
    "V = 0.5     # Coupling strength between the atom and the bath"
   ]
  },
  {
   "cell_type": "code",
   "execution_count": 3,
   "id": "dd467fd2-4cdd-463a-9bf8-b73b89641a99",
   "metadata": {},
   "outputs": [],
   "source": [
    "contour = kd.twist(kd.FullContour(β=β, tmax=tmax))\n",
    "grid = kd.FullTimeGrid(contour, nt, ntau);"
   ]
  },
  {
   "cell_type": "code",
   "execution_count": 4,
   "id": "9056c499-4e7f-4323-ab1f-3e9f51356f62",
   "metadata": {},
   "outputs": [
    {
     "data": {
      "text/plain": [
       "Dimension of full Hilbert space: 4\n",
       "Number of invariant subspaces: 4\n",
       "  Subspace 1, dim = 1\n",
       "    Basis Fock states: UInt64[0x0000000000000000]\n",
       "    Energy levels: [0.0]\n",
       "  Subspace 2, dim = 1\n",
       "    Basis Fock states: UInt64[0x0000000000000001]\n",
       "    Energy levels: [0.1]\n",
       "  Subspace 3, dim = 1\n",
       "    Basis Fock states: UInt64[0x0000000000000002]\n",
       "    Energy levels: [0.1]\n",
       "  Subspace 4, dim = 1\n",
       "    Basis Fock states: UInt64[0x0000000000000003]\n",
       "    Energy levels: [1.2]\n",
       "Ground state energy: 0.0\n"
      ]
     },
     "execution_count": 4,
     "metadata": {},
     "output_type": "execute_result"
    }
   ],
   "source": [
    "H_at = ϵ * (op.n(\"up\") + op.n(\"dn\")) + U * op.n(\"up\") * op.n(\"dn\")\n",
    "soi = ked.Hilbert.SetOfIndices([[\"up\"], [\"dn\"]])\n",
    "ed = ked.EDCore(H_at, soi)"
   ]
  },
  {
   "cell_type": "code",
   "execution_count": 5,
   "id": "14169e51-3181-4ee9-9c90-d4cf71c8b7af",
   "metadata": {},
   "outputs": [],
   "source": [
    "bath_dos = kd.bethe_dos(t=D/2)\n",
    "Δ = V^2 * kd.TimeInvariantFullTimeGF(bath_dos, grid)\n",
    "\n",
    "int_pairs = [\n",
    "    InteractionPair(op.c_dag(\"up\"), op.c(\"up\"), Δ),\n",
    "    #InteractionPair(op.c(\"up\"), op.c_dag(\"up\"), ph_conj(Δ)),\n",
    "    InteractionPair(op.c(\"up\"), op.c_dag(\"up\"), Δ), # Fix Me!\n",
    "    InteractionPair(op.c_dag(\"dn\"), op.c(\"dn\"), Δ),\n",
    "    #InteractionPair(op.c(\"dn\"), op.c_dag(\"dn\"), ph_conj(Δ))\n",
    "    InteractionPair(op.c(\"dn\"), op.c_dag(\"dn\"), Δ) # Fix Me!\n",
    "    ]\n",
    "\n",
    "expansion = Expansion(ed, grid, int_pairs);"
   ]
  },
  {
   "cell_type": "code",
   "execution_count": 6,
   "id": "3dda690e-1001-4803-a3cf-61a5291c8c83",
   "metadata": {},
   "outputs": [
    {
     "name": "stdout",
     "output_type": "stream",
     "text": [
      "typeof(expansion.P) = Vector{GenericTimeGF{ComplexF64, false, FullTimeGrid}}\n"
     ]
    },
    {
     "data": {
      "text/plain": [
       "Vector{GenericTimeGF{ComplexF64, false, FullTimeGrid}}\u001b[90m (alias for \u001b[39m\u001b[90mArray{GenericTimeGF{Complex{Float64}, false, FullTimeGrid}, 1}\u001b[39m\u001b[90m)\u001b[39m"
      ]
     },
     "execution_count": 6,
     "metadata": {},
     "output_type": "execute_result"
    }
   ],
   "source": [
    "@show typeof(expansion.P)"
   ]
  },
  {
   "cell_type": "code",
   "execution_count": 7,
   "id": "a72bab72-dab7-436e-a718-df07635809ef",
   "metadata": {},
   "outputs": [
    {
     "name": "stderr",
     "output_type": "stream",
     "text": [
      "WARNING: using PyPlot.contour in module Main conflicts with an existing identifier.\n",
      "WARNING: using PyPlot.grid in module Main conflicts with an existing identifier.\n"
     ]
    },
    {
     "data": {
      "text/plain": [
       "PyPlot"
      ]
     },
     "execution_count": 7,
     "metadata": {},
     "output_type": "execute_result"
    }
   ],
   "source": [
    "using PyPlot; plt = PyPlot"
   ]
  },
  {
   "cell_type": "code",
   "execution_count": 8,
   "id": "3de8c2d5-b934-4707-8639-1e5bf15c215f",
   "metadata": {},
   "outputs": [
    {
     "data": {
      "image/png": "[encoded data removed]",
      "text/plain": [
       "Figure(PyObject <Figure size 800x200 with 8 Axes>)"
      ]
     },
     "metadata": {},
     "output_type": "display_data"
    }
   ],
   "source": [
    "ns = length(expansion.P)\n",
    "subp = [1, ns, 1]\n",
    "plt.figure(figsize=(8, 2))\n",
    "\n",
    "for s in 1:ns\n",
    "    plt.subplot(subp...); subp[end] += 1\n",
    "    plt.pcolormesh(real(expansion.P[s].data[1, 1, :, :]), vmin=-1, vmax=+1)\n",
    "    plt.colorbar()\n",
    "    plt.axis(\"equal\")\n",
    "end\n",
    "plt.tight_layout()"
   ]
  },
  {
   "cell_type": "code",
   "execution_count": 9,
   "id": "b83f674e-6e84-45be-8ef6-414a6b258fb2",
   "metadata": {},
   "outputs": [],
   "source": [
    "norb_s = [ norbitals(p) for p in expansion.P ]\n",
    "Σ = [ kd.TimeInvariantFullTimeGF(grid, norb) for norb in norb_s ];"
   ]
  },
  {
   "cell_type": "code",
   "execution_count": 30,
   "id": "e1d4cc97-4631-4d48-8d4b-c425f4484374",
   "metadata": {},
   "outputs": [],
   "source": [
    "function ppsc_sigma_nca!(Σ, G, expansion, t, τ);\n",
    "\n",
    "    for (s, Σ_s) in enumerate(Σ)\n",
    "\n",
    "        Σ_s[:, :, t, τ] .= 0.\n",
    "\n",
    "        for (pidx, (pair, op_mats)) in enumerate(zip(expansion.pairs, expansion.pair_operator_mat))\n",
    "            Δ = pair.propagator\n",
    "            O1, O2 = op_mats\n",
    "        \n",
    "            haskey(O2, s) || continue \n",
    "            \n",
    "            s_2, mat2 = O2[s]\n",
    "            s_1, mat1 = O1[s_2]\n",
    "            @assert s_1 == s\n",
    "\n",
    "            Σ_s[:, :, t, τ] += mat1 * G[s_2][:, :, t, τ] * mat2 * Δ[t, τ]\n",
    "            Σ_s[:, :, t, τ] += mat2 * G[s_2][:, :, t, τ] * mat1 * Δ[τ, t]\n",
    "        end\n",
    "    end\n",
    "end;"
   ]
  },
  {
   "cell_type": "code",
   "execution_count": 37,
   "id": "a068bfc2-4683-4d33-b81d-0067562d1391",
   "metadata": {},
   "outputs": [],
   "source": [
    "t = first(grid[forward_branch])\n",
    "τ = first(grid[imaginary_branch])\n",
    "\n",
    "ppsc_sigma_nca!(Σ, expansion.P, expansion, t, τ)"
   ]
  },
  {
   "cell_type": "code",
   "execution_count": 36,
   "id": "60fdfcc8-abeb-445f-9a3b-e119f99f1c2a",
   "metadata": {},
   "outputs": [
    {
     "ename": "LoadError",
     "evalue": "MethodError: no method matching getindex(::QInchworm.exact_atomic_ppgf.ExactAtomicPPGF, ::Colon, ::Colon, ::TimeGridPoint, ::TimeGridPoint, ::Bool)\n\n\u001b[0mClosest candidates are:\n\u001b[0m  getindex(::AbstractTimeGF{T, false}, \u001b[91m::TimeGridPoint\u001b[39m, \u001b[91m::TimeGridPoint\u001b[39m, ::Any) where T\n\u001b[0m\u001b[90m   @\u001b[39m \u001b[36mKeldysh\u001b[39m \u001b[90m~/.julia/packages/Keldysh/aL7kP/src/\u001b[39m\u001b[90m\u001b[4mgf.jl:26\u001b[24m\u001b[39m\n\u001b[0m  getindex(::AbstractTimeGF{T, false}, \u001b[91m::TimeGridPoint\u001b[39m, \u001b[91m::TimeGridPoint\u001b[39m) where T\n\u001b[0m\u001b[90m   @\u001b[39m \u001b[36mKeldysh\u001b[39m \u001b[90m~/.julia/packages/Keldysh/aL7kP/src/\u001b[39m\u001b[90m\u001b[4mgf.jl:26\u001b[24m\u001b[39m\n\u001b[0m  getindex(::AbstractTimeGF, \u001b[91m::BranchEnum\u001b[39m, \u001b[91m::BranchEnum\u001b[39m)\n\u001b[0m\u001b[90m   @\u001b[39m \u001b[36mKeldysh\u001b[39m \u001b[90m~/.julia/packages/Keldysh/aL7kP/src/\u001b[39m\u001b[90m\u001b[4mgf.jl:30\u001b[24m\u001b[39m\n\u001b[0m  ...\n",
     "output_type": "error",
     "traceback": [
      "MethodError: no method matching getindex(::QInchworm.exact_atomic_ppgf.ExactAtomicPPGF, ::Colon, ::Colon, ::TimeGridPoint, ::TimeGridPoint, ::Bool)\n\n\u001b[0mClosest candidates are:\n\u001b[0m  getindex(::AbstractTimeGF{T, false}, \u001b[91m::TimeGridPoint\u001b[39m, \u001b[91m::TimeGridPoint\u001b[39m, ::Any) where T\n\u001b[0m\u001b[90m   @\u001b[39m \u001b[36mKeldysh\u001b[39m \u001b[90m~/.julia/packages/Keldysh/aL7kP/src/\u001b[39m\u001b[90m\u001b[4mgf.jl:26\u001b[24m\u001b[39m\n\u001b[0m  getindex(::AbstractTimeGF{T, false}, \u001b[91m::TimeGridPoint\u001b[39m, \u001b[91m::TimeGridPoint\u001b[39m) where T\n\u001b[0m\u001b[90m   @\u001b[39m \u001b[36mKeldysh\u001b[39m \u001b[90m~/.julia/packages/Keldysh/aL7kP/src/\u001b[39m\u001b[90m\u001b[4mgf.jl:26\u001b[24m\u001b[39m\n\u001b[0m  getindex(::AbstractTimeGF, \u001b[91m::BranchEnum\u001b[39m, \u001b[91m::BranchEnum\u001b[39m)\n\u001b[0m\u001b[90m   @\u001b[39m \u001b[36mKeldysh\u001b[39m \u001b[90m~/.julia/packages/Keldysh/aL7kP/src/\u001b[39m\u001b[90m\u001b[4mgf.jl:30\u001b[24m\u001b[39m\n\u001b[0m  ...\n",
      "",
      "Stacktrace:",
      " [1] getindex(X::QInchworm.exact_atomic_ppgf.ExactAtomicPPGF, t1::TimeGridPoint, t2::TimeGridPoint, greater::Bool)",
      "   @ Keldysh ~/.julia/packages/Keldysh/aL7kP/src/gf.jl:26",
      " [2] getindex(X::QInchworm.exact_atomic_ppgf.ExactAtomicPPGF, t1::TimeGridPoint, t2::TimeGridPoint)",
      "   @ Keldysh ~/.julia/packages/Keldysh/aL7kP/src/gf.jl:26",
      " [3] top-level scope",
      "   @ ./In[36]:4"
     ]
    }
   ],
   "source": [
    "s = 1\n",
    "for z in grid\n",
    "    # -- todo extend atomic ppgf\n",
    "    @assert expansion.P[s][:, :, z, z] == expansion.P0[s][z, z] \n",
    "end"
   ]
  },
  {
   "cell_type": "markdown",
   "id": "ac08c801-782c-45e6-8efb-ab4e8d617fcf",
   "metadata": {},
   "source": [
    "# To DO\n",
    "\n",
    "- `ph_conj` - extend for real-time GF\n",
    "- `exact_atomic_ppgf` - extend eval support to all times\n",
    "- Hybridization function update\n",
    "- Imaginary time DMFT self consistent setup"
   ]
  },
  {
   "cell_type": "code",
   "execution_count": null,
   "id": "91c4a62a-05a9-4848-bb55-63ce1cc3c295",
   "metadata": {},
   "outputs": [],
   "source": []
  }
 ],
 "metadata": {
  "kernelspec": {
   "display_name": "Julia 1.10.4",
   "language": "julia",
   "name": "julia-1.10"
  },
  "language_info": {
   "file_extension": ".jl",
   "mimetype": "application/julia",
   "name": "julia",
   "version": "1.10.5"
  }
 },
 "nbformat": 4,
 "nbformat_minor": 5
}

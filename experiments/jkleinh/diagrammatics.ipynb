{
 "cells": [
  {
   "cell_type": "code",
   "execution_count": null,
   "id": "38159a25-8ddc-4270-9687-ef1c0644a23c",
   "metadata": {},
   "outputs": [],
   "source": [
    "using Pkg\n",
    "# create a separate environment for the notebook\n",
    "Pkg.activate(\".\")\n",
    "Pkg.status()"
   ]
  },
  {
   "cell_type": "code",
   "execution_count": null,
   "id": "13659523-df16-41cb-bf85-b023bcded043",
   "metadata": {},
   "outputs": [],
   "source": [
    "# bring QInchworm into the env\n",
    "# Pkg.develop(path=\"../..\")"
   ]
  },
  {
   "cell_type": "code",
   "execution_count": null,
   "id": "b2012cfd-6ac7-45ce-89db-dc0a2ca3663f",
   "metadata": {},
   "outputs": [],
   "source": [
    "using Statistics"
   ]
  },
  {
   "cell_type": "code",
   "execution_count": null,
   "id": "e5d0085a-73b6-4185-84f9-7407b21c4884",
   "metadata": {},
   "outputs": [],
   "source": [
    "# take from base env\n",
    "# NOTE we have to load PyPlot before QInchworm to activate the functionality in pyplot.jl\n",
    "using PyPlot, Revise"
   ]
  },
  {
   "cell_type": "code",
   "execution_count": null,
   "id": "0f2bdd4f-a2e4-435d-ac55-407a67d99fb5",
   "metadata": {},
   "outputs": [],
   "source": [
    "using QInchworm\n",
    "import QInchworm.diagrammatics"
   ]
  },
  {
   "cell_type": "code",
   "execution_count": null,
   "id": "240a12dd-10bb-4804-aa87-e05f5dcc0053",
   "metadata": {},
   "outputs": [],
   "source": [
    "function plot_all_topologies(order::Int)\n",
    "    vertices = range(0.0, 1.0, 2*order)\n",
    "    topos = diagrammatics.Topology.(diagrammatics.pair_partitions(order))\n",
    "    ntopos = length(topos)\n",
    "\n",
    "    nrows = Int(ceil(ntopos // 5))\n",
    "    fig = plt.figure(figsize=(10, 1*nrows))\n",
    "    gs = matplotlib.gridspec.GridSpec(nrows, 5, figure=fig, wspace=0, hspace=0)\n",
    "\n",
    "    for (k, (i,j)) in zip(1:ntopos, Iterators.product(1:nrows, 1:5))\n",
    "        ax = fig.add_subplot(gs[i,j])\n",
    "        ax.plot(vertices, zero(vertices), \"k.\")\n",
    "\n",
    "        top = topos[k]\n",
    "\n",
    "        QInchworm.plot_topology!(ax, vertices, top, 1)\n",
    "        ax.set_ylim([0.0, 0.55])\n",
    "        ax.set(xticks=[], yticks=[])\n",
    "        ax.axvline([mean([vertices[1], vertices[2]])], color=\"k\", linestyle=\"--\")\n",
    "    end\n",
    "end"
   ]
  },
  {
   "cell_type": "code",
   "execution_count": null,
   "id": "081739fd-ad1a-4aea-a4d5-4239ea56ea6b",
   "metadata": {},
   "outputs": [],
   "source": [
    "function plot_k_connected_topologies(order::Int, k::Int)\n",
    "    vertices = range(0.0, 1.0, 2*order)\n",
    "    topos = diagrammatics.Topology.(diagrammatics.pair_partitions(order))\n",
    "    \n",
    "    filter!(topos) do top\n",
    "        diagrammatics.is_k_connected(top, k)\n",
    "    end\n",
    "    \n",
    "    \n",
    "    ntopos = length(topos)\n",
    "\n",
    "    nrows = Int(ceil(ntopos // 5))\n",
    "    fig = plt.figure(figsize=(10, 1*nrows))\n",
    "    gs = matplotlib.gridspec.GridSpec(nrows, 5, figure=fig, wspace=0, hspace=0)\n",
    "\n",
    "    for (k, (i,j)) in zip(1:ntopos, Iterators.product(1:nrows, 1:5))\n",
    "        ax = fig.add_subplot(gs[i,j])\n",
    "        ax.plot(vertices, zero(vertices), \"k.\")\n",
    "\n",
    "        top = topos[k]\n",
    "\n",
    "        QInchworm.plot_topology!(ax, vertices, top, 1)\n",
    "        ax.set_ylim([0.0, 0.55])\n",
    "        ax.set(xticks=[], yticks=[])\n",
    "        ax.axvline([mean([vertices[1], vertices[2]])], color=\"k\", linestyle=\"--\")\n",
    "    end    \n",
    "end"
   ]
  },
  {
   "cell_type": "code",
   "execution_count": null,
   "id": "b46a7ff9-8742-4529-8e9b-35b556e22379",
   "metadata": {},
   "outputs": [],
   "source": [
    "plot_all_topologies(1)"
   ]
  },
  {
   "cell_type": "code",
   "execution_count": null,
   "id": "8d21b05a-ad5d-4054-a7a9-180986dfc4b4",
   "metadata": {},
   "outputs": [],
   "source": [
    "plot_all_topologies(2)"
   ]
  },
  {
   "cell_type": "code",
   "execution_count": null,
   "id": "88223fea-7407-4fc0-909e-a0f1bbf0e7d9",
   "metadata": {},
   "outputs": [],
   "source": [
    "plot_all_topologies(3)"
   ]
  },
  {
   "cell_type": "code",
   "execution_count": null,
   "id": "98f73875-7de4-4225-9d7b-02cf43b40e64",
   "metadata": {},
   "outputs": [],
   "source": [
    "plot_all_topologies(4)"
   ]
  },
  {
   "cell_type": "code",
   "execution_count": null,
   "id": "b97990d8-672c-431e-a0c2-d33f0c1ac480",
   "metadata": {},
   "outputs": [],
   "source": [
    "plot_k_connected_topologies(1, 1)"
   ]
  },
  {
   "cell_type": "code",
   "execution_count": null,
   "id": "b88bccf4-4084-4e94-a8f7-9a5835c46e74",
   "metadata": {},
   "outputs": [],
   "source": [
    "plot_k_connected_topologies(2, 1)"
   ]
  },
  {
   "cell_type": "code",
   "execution_count": null,
   "id": "41b66e87-ad38-453c-87e9-f4c2dbab7001",
   "metadata": {},
   "outputs": [],
   "source": [
    "plot_k_connected_topologies(3, 1)"
   ]
  },
  {
   "cell_type": "code",
   "execution_count": null,
   "id": "0a923196-2e4c-4266-82a6-648931cb0c38",
   "metadata": {},
   "outputs": [],
   "source": [
    "plot_k_connected_topologies(4, 1)"
   ]
  },
  {
   "cell_type": "code",
   "execution_count": null,
   "id": "af7d26a5-2b1c-47cf-b791-68e2342c668a",
   "metadata": {},
   "outputs": [],
   "source": [
    "orders = 1:8\n",
    "ntopos_by_order = map(orders) do order\n",
    "    ntopos = length(filter!(top -> diagrammatics.is_k_connected(top, 1), diagrammatics.Topology.(diagrammatics.pair_partitions(order))))\n",
    "    return ntopos\n",
    "end"
   ]
  },
  {
   "cell_type": "code",
   "execution_count": null,
   "id": "58fba08a-024e-44ac-a039-ecbcf04284ff",
   "metadata": {},
   "outputs": [],
   "source": [
    "fig, ax = plt.subplots()\n",
    "ax.plot(orders, ntopos_by_order, label=\"1-connected\")\n",
    "ax.plot(orders, map(o -> diagrammatics.double_factorial(2o - 1), orders), label=\"all\")\n",
    "ax.set_xlabel(\"order\")\n",
    "ax.set_ylabel(\"number of topologies\")\n",
    "ax.set_yscale(\"log\")\n",
    "ax.legend()"
   ]
  },
  {
   "cell_type": "code",
   "execution_count": null,
   "id": "185de35b-c988-4190-8120-f0cf8ba2a1c3",
   "metadata": {},
   "outputs": [],
   "source": []
  }
 ],
 "metadata": {
  "kernelspec": {
   "display_name": "Julia 1.7.3",
   "language": "julia",
   "name": "julia-1.7"
  },
  "language_info": {
   "file_extension": ".jl",
   "mimetype": "application/julia",
   "name": "julia",
   "version": "1.7.3"
  }
 },
 "nbformat": 4,
 "nbformat_minor": 5
}

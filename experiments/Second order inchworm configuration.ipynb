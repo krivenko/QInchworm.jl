{
 "cells": [
  {
   "cell_type": "markdown",
   "metadata": {},
   "source": [
    "# Second order inchworm configuration and its contribution to the pseudo-particle self-energy"
   ]
  },
  {
   "cell_type": "code",
   "execution_count": null,
   "metadata": {},
   "outputs": [],
   "source": [
    "import Keldysh; kd = Keldysh\n",
    "import KeldyshED; ked = KeldyshED; op = KeldyshED.Operators;\n",
    "\n",
    "import QInchworm.ppgf\n",
    "\n",
    "import QInchworm; cfg = QInchworm.configuration\n",
    "\n",
    "import QInchworm.configuration: Expansion, InteractionPair\n",
    "import QInchworm.configuration: Configuration, Node, InchNode, NodePair, NodePairs\n",
    "\n",
    "import QInchworm.qmc_integrate: qmc_time_ordered_integral\n",
    "\n",
    "import Sobol: SobolSeq\n",
    "import LinearAlgebra: norm"
   ]
  },
  {
   "cell_type": "markdown",
   "metadata": {},
   "source": [
    "## Single correlated atom coupled to a bath level"
   ]
  },
  {
   "cell_type": "markdown",
   "metadata": {},
   "source": [
    "System parameters"
   ]
  },
  {
   "cell_type": "code",
   "execution_count": null,
   "metadata": {},
   "outputs": [],
   "source": [
    "β = 1.0;        # Inverse temperature\n",
    "U = 1.0;         # Coulomb interaction\n",
    "μ = U/2 + 0.3;   # Chemical potential\n",
    "B = 0.1;         # Magnetic field\n",
    "ϵ = [-0.1, +0.1] # Bath energy levels\n",
    "V = 1.0;         # Hopping"
   ]
  },
  {
   "cell_type": "markdown",
   "metadata": {},
   "source": [
    "Discretization"
   ]
  },
  {
   "cell_type": "code",
   "execution_count": null,
   "metadata": {},
   "outputs": [],
   "source": [
    "nt = 2;\n",
    "ntau = 1001;\n",
    "#ntau = 5001;\n",
    "tmax = 1.0;"
   ]
  },
  {
   "cell_type": "markdown",
   "metadata": {},
   "source": [
    "Exact Diagonalization"
   ]
  },
  {
   "cell_type": "code",
   "execution_count": null,
   "metadata": {},
   "outputs": [],
   "source": [
    "H = -μ * (op.n(0, \"up\") + op.n(0, \"dn\")) + U * op.n(0, \"up\") * op.n(0, \"dn\") + B * (op.n(0, \"up\") - op.n(0, \"dn\"));\n",
    "soi = ked.Hilbert.SetOfIndices([[0, \"up\"], [0, \"dn\"]]);\n",
    "ed = ked.EDCore(H, soi);\n",
    "ρ = ked.density_matrix(ed, β);"
   ]
  },
  {
   "cell_type": "markdown",
   "metadata": {},
   "source": [
    "3-branch time contour"
   ]
  },
  {
   "cell_type": "code",
   "execution_count": null,
   "metadata": {},
   "outputs": [],
   "source": [
    "contour = kd.twist(kd.FullContour(tmax=tmax, β=β));\n",
    "grid = kd.FullTimeGrid(contour, nt, ntau);"
   ]
  },
  {
   "cell_type": "markdown",
   "metadata": {},
   "source": [
    "Hybridization function"
   ]
  },
  {
   "cell_type": "code",
   "execution_count": null,
   "metadata": {},
   "outputs": [],
   "source": [
    "dos = kd.DeltaDOS(ϵ, V^2 * ones(length(ϵ)))\n",
    "Δ = kd.FullTimeGF(dos, grid);"
   ]
  },
  {
   "cell_type": "code",
   "execution_count": null,
   "metadata": {},
   "outputs": [],
   "source": [
    "import PyCall; PyCall.pygui(:tk);\n",
    "import PyPlot; const plt = PyPlot; plt.pygui(false); plt.svg(true);\n",
    "\n",
    "tau = Array(LinRange(0, β, 10001))\n",
    "\n",
    "b = contour[kd.imaginary_branch]\n",
    "t0 = b(tau[1])\n",
    "times = [ b(t) for t in tau ]\n",
    "vals = [ Δ(t, t0) for t in times ]\n",
    "\n",
    "plt.title(\"Δ(τ)\")\n",
    "plt.plot(tau, imag.(vals), \"-\");"
   ]
  },
  {
   "cell_type": "markdown",
   "metadata": {},
   "source": [
    "Pseudo Particle Strong Coupling Expansion"
   ]
  },
  {
   "cell_type": "code",
   "execution_count": null,
   "metadata": {},
   "outputs": [],
   "source": [
    "ip_up = InteractionPair(op.c_dag(0, \"up\"), op.c(0, \"up\"), Δ);\n",
    "ip_dn = InteractionPair(op.c_dag(0, \"dn\"), op.c(0, \"dn\"), Δ);\n",
    "ppsc_exp = Expansion(ed, grid, [ip_up, ip_dn]);"
   ]
  },
  {
   "cell_type": "code",
   "execution_count": null,
   "metadata": {},
   "outputs": [],
   "source": [
    "import PyCall; PyCall.pygui(:tk);\n",
    "import PyPlot; const plt = PyPlot; plt.pygui(false); plt.svg(true);\n",
    "\n",
    "plt.title(\"Ĝ(τ)\")\n",
    "for (idx, G_s) in enumerate(ppsc_exp.P0)\n",
    "    vals = [ G_s(t, t0) for t in times ]\n",
    "    vals = vcat(vals...)    \n",
    "    plt.plot(tau, imag.(vals), \"-\", label=\"G^{0}_$idx\")\n",
    "\n",
    "    vals = [ ppsc_exp.P[idx](t, t0) for t in times ]\n",
    "    vals = vcat(vals...)    \n",
    "    plt.plot(tau, imag.(vals), \"-\", label=\"G_$idx\")\n",
    "end\n",
    "\n",
    "plt.legend(loc=\"best\");"
   ]
  },
  {
   "cell_type": "markdown",
   "metadata": {},
   "source": [
    "2nd order inchworm diagram on the imaginary branch"
   ]
  },
  {
   "cell_type": "code",
   "execution_count": null,
   "metadata": {
    "scrolled": true
   },
   "outputs": [],
   "source": [
    "tau_grid = grid[kd.imaginary_branch]\n",
    "τ_0, τ_β = tau_grid[1], tau_grid[end]\n",
    "\n",
    "for t in tau_grid\n",
    "    println(imag(t.bpoint.val))\n",
    "end\n",
    "\n",
    "τ_i = τ_0\n",
    "τ_f = τ_β\n",
    "\n",
    "τ_w_pos = 0.5 # Inchworm split time at 0.8β\n",
    "#τ_w_pos = 0.8 # Inchworm split time at 0.8β\n",
    "τ_w = tau_grid[1 + Int(τ_w_pos * (ntau - 1))]\n",
    "println(τ_w)\n",
    "\n",
    "n_i = Node(τ_i.bpoint)\n",
    "n_w = InchNode(τ_w.bpoint)\n",
    "n_f = Node(τ_f.bpoint)\n",
    "\n",
    "nodes = [n_f, n_w, n_i]\n",
    "conf_0 = Configuration(nodes, NodePairs());\n",
    "init_0 = zero(cfg.eval(ppsc_exp, conf_0));"
   ]
  },
  {
   "cell_type": "markdown",
   "metadata": {},
   "source": [
    "Quasi Monte Carlo integration over a $d = 3$ domain"
   ]
  },
  {
   "cell_type": "code",
   "execution_count": null,
   "metadata": {},
   "outputs": [],
   "source": [
    "function second_order_diag_eval(τ)\n",
    "    # Loop over spin indices of hybridization lines\n",
    "    sum = deepcopy(init_0)\n",
    "    for index1 = 1:2, index2 = 1:2\n",
    "        # 4 arrangements of creation and annihilation operators\n",
    "        conf = Configuration(nodes, [NodePair(n_f.time, τ[2], index1), NodePair(τ[1], τ[3], index2)])\n",
    "        sum += cfg.eval(ppsc_exp, conf)\n",
    "        conf = Configuration(nodes, [NodePair(τ[2], n_f.time, index1), NodePair(τ[1], τ[3], index2)])\n",
    "        sum += cfg.eval(ppsc_exp, conf)\n",
    "        conf = Configuration(nodes, [NodePair(n_f.time, τ[2], index1), NodePair(τ[3], τ[1], index2)])\n",
    "        sum += cfg.eval(ppsc_exp, conf)\n",
    "        conf = Configuration(nodes, [NodePair(τ[2], n_f.time, index1), NodePair(τ[3], τ[1], index2)])\n",
    "        sum += cfg.eval(ppsc_exp, conf)\n",
    "    end\n",
    "    return sum\n",
    "end"
   ]
  },
  {
   "cell_type": "code",
   "execution_count": null,
   "metadata": {},
   "outputs": [],
   "source": [
    "import PyCall; PyCall.pygui(:tk);\n",
    "import PyPlot; const plt = PyPlot; plt.pygui(false); plt.svg(true);\n",
    "\n",
    "t1 = b(tau[10])\n",
    "println(\"t1 = $t1\")\n",
    "\n",
    "vals = [ second_order_diag_eval([b(t), t1, t0]) for t in tau ]\n",
    "#println(vals)\n",
    "\n",
    "for s in 1:4\n",
    "    val_s = [ d[s][2] for d in vals ]\n",
    "    val_s = vcat(val_s...)    \n",
    "    #println(val_s)\n",
    "    plt.plot(tau, imag.(val_s))\n",
    "end\n",
    "\n",
    "plt.ylim(bottom=0)"
   ]
  },
  {
   "cell_type": "code",
   "execution_count": null,
   "metadata": {},
   "outputs": [],
   "source": [
    "import MultiQuad: tplquad\n",
    "\n",
    "func(z, y, x) = imag(second_order_diag_eval([b(z), b(y), b(x)])[3][2][1, 1])\n",
    "\n",
    "tau_w = τ_w_pos*β\n",
    "\n",
    "integral, error = tplquad(\n",
    "    func, \n",
    "    0, tau_w, x->x, x->tau_w, (x,y)->y, (x,y)->tau_w, \n",
    "    rtol=1e-10, atol=1e-10)"
   ]
  },
  {
   "cell_type": "code",
   "execution_count": null,
   "metadata": {},
   "outputs": [],
   "source": [
    "function do_2nd_order_inchworm_diagram(τ_qmc, N, seq)\n",
    "    qmc_time_ordered_integral(3, contour,\n",
    "                              τ_i.bpoint, τ_w.bpoint,\n",
    "                              init = deepcopy(init_0),\n",
    "                              seq = seq, τ = τ_qmc, N = N) do τ\n",
    "        # Loop over spin indices of hybridization lines\n",
    "        sum = deepcopy(init_0)\n",
    "        for index1 = 1:2, index2 = 1:2\n",
    "            # 4 arrangements of creation and annihilation operators\n",
    "            conf = Configuration(nodes, [NodePair(n_f.time, τ[2], index1), NodePair(τ[1], τ[3], index2)])\n",
    "            sum += cfg.eval(ppsc_exp, conf)\n",
    "            conf = Configuration(nodes, [NodePair(τ[2], n_f.time, index1), NodePair(τ[1], τ[3], index2)])\n",
    "            sum += cfg.eval(ppsc_exp, conf)\n",
    "            conf = Configuration(nodes, [NodePair(n_f.time, τ[2], index1), NodePair(τ[3], τ[1], index2)])\n",
    "            sum += cfg.eval(ppsc_exp, conf)\n",
    "            conf = Configuration(nodes, [NodePair(τ[2], n_f.time, index1), NodePair(τ[3], τ[1], index2)])\n",
    "            sum += cfg.eval(ppsc_exp, conf)\n",
    "        end\n",
    "        sum\n",
    "    end\n",
    "end"
   ]
  },
  {
   "cell_type": "markdown",
   "metadata": {},
   "source": [
    "## Numerical experiments"
   ]
  },
  {
   "cell_type": "code",
   "execution_count": null,
   "metadata": {},
   "outputs": [],
   "source": [
    "import PyCall; PyCall.pygui(:tk);\n",
    "import PyPlot; const plt = PyPlot; plt.pygui(false); plt.svg(true);\n",
    "\n",
    "# Scan a range of sample numbers N using incremental evaluation of the integral\n",
    "function scan_N_range(τ_qmc, N_step::Int, N_points::Int)\n",
    "    println(\"τ_qmc = $τ_qmc\")\n",
    "    N_list = zeros(Int, N_points)\n",
    "    chunks = zeros(Complex{Float64}, 4, N_points)\n",
    "    Threads.@threads for i = 1:N_points\n",
    "        N = i * N_step\n",
    "        N_list[i] = N\n",
    "        \n",
    "        seq = skip(SobolSeq(3), N - N_step, exact=true)\n",
    "        \n",
    "        val = do_2nd_order_inchworm_diagram(τ_qmc, N_step, seq)\n",
    "        chunks[:, i] = [val[s][2][1] for s = 1:4]\n",
    "        \n",
    "        println(\"N = $N, val = \", chunks[:, i])\n",
    "    end\n",
    "    results = cumsum(chunks, dims=2)\n",
    "    for i = 1:N_points\n",
    "        results[:, i] /= i\n",
    "    end\n",
    "    (N_list, results)\n",
    "end\n",
    "\n",
    "# Scan a range of sample numbers N without optimizations\n",
    "function scan_N_range_unopt(τ_qmc, N_step::Int, N_points::Int)\n",
    "    println(\"τ_qmc = $τ_qmc\")\n",
    "    N_list = collect(range(N_step, step=N_step, length=N_points))\n",
    "    results = zeros(Complex{Float64}, 4, N_points)\n",
    "    Threads.@threads for (i, N) in collect(enumerate(N_list))\n",
    "        N_list[i] = N\n",
    "        \n",
    "        val = do_2nd_order_inchworm_diagram(τ_qmc, N, SobolSeq(3))\n",
    "        \n",
    "        results[:, i] = [val[s][2][1] for s=1:4]\n",
    "        println(\"N = $N, res = \", results[:, i])\n",
    "    end\n",
    "    (N_list, results)\n",
    "end\n",
    "\n",
    "using HDF5\n",
    "function h5_write_results(group_name, ref, τ_qmc, N_range, results, div)\n",
    "    h5open(\"2nd_order_inchworm.h5\", \"cw\") do file\n",
    "        if group_name in keys(file)\n",
    "            delete_object(file, group_name)\n",
    "        end\n",
    "        g = create_group(file, group_name)\n",
    "        write(g, \"ref\", ref)\n",
    "        write(g, \"tau_qmc\", τ_qmc)\n",
    "        write(g, \"N_range\", collect(N_range))\n",
    "        write(g, \"results\", results)\n",
    "        write(g, \"div\", div)\n",
    "    end\n",
    "end"
   ]
  },
  {
   "cell_type": "code",
   "execution_count": null,
   "metadata": {
    "scrolled": true
   },
   "outputs": [],
   "source": [
    "τ_qmc = 2.0β\n",
    "\n",
    "N_step = 10000\n",
    "N_points = 24 * 10\n",
    "\n",
    "#N_step = 10000\n",
    "#N_points = 24 * 100\n",
    "\n",
    "#N_step = 10000\n",
    "#N_points = 2000\n",
    "\n",
    "N_list, results = scan_N_range(τ_qmc, N_step, N_points);\n",
    "\n",
    "## Check against the unoptimized version\n",
    "#N_list_unopt, results_unopt = scan_N_range_unopt(τ_qmc, N_step, N_points)\n",
    "#@assert N_list == N_list_unopt\n",
    "#@assert isapprox(norm(results - results_unopt, Inf), 0, atol=1e-14)"
   ]
  },
  {
   "cell_type": "code",
   "execution_count": null,
   "metadata": {},
   "outputs": [],
   "source": [
    "results[:, end]"
   ]
  },
  {
   "cell_type": "code",
   "execution_count": null,
   "metadata": {
    "scrolled": false
   },
   "outputs": [],
   "source": [
    "ref = [\n",
    "    -0.009316387183585625,\n",
    "    -0.009316387183585625,\n",
    "    -0.011855113283715819,\n",
    "    -0.011855113283715819,\n",
    "    ]\n",
    "\n",
    "div = results - (ref .* ones(Float64, N_points)')\n",
    "\n",
    "h5_write_results(\"tau_qmc_$τ_qmc\", ref, τ_qmc, N_list, results, div)\n",
    "\n",
    "for s=1:4\n",
    "    plt.loglog(N_list, abs.(div[s, :]), label = \"\\$s=$s\\$\")\n",
    "end\n",
    "\n",
    "for i = -3:5\n",
    "    plt.loglog(N_list, 10. .^i ./N_list, \"-k\", lw=0.5)\n",
    "    plt.loglog(N_list, 10. .^(i-2) ./ sqrt.(N_list), \":k\", lw=0.5)\n",
    "end\n",
    "\n",
    "plt.xlabel(raw\"$N$\")\n",
    "plt.ylabel(raw\"$|P - P_{ref}|$\")\n",
    "plt.xlim(N_list[1], N_list[end])\n",
    "plt.ylim(minimum(abs.(div)), maximum(abs.(div)))\n",
    "plt.legend()\n",
    "plt.text(1e5, 1e-7, \"\\$\\\\tau_{qmc} = $τ_qmc\\$\")\n",
    "\n",
    "plt.savefig(\"2nd_order_inchworm_tau$τ_qmc.pdf\")"
   ]
  },
  {
   "cell_type": "code",
   "execution_count": null,
   "metadata": {},
   "outputs": [],
   "source": [
    "# Test a single value of the integrand\n",
    "\n",
    "τ = [tau_grid[end-20].bpoint, tau_grid[end-30].bpoint, tau_grid[end-40].bpoint]\n",
    "@show τ\n",
    "\n",
    "@show Δ(n_f.time, τ[2])\n",
    "@show Δ(τ[2], n_f.time)\n",
    "@show Δ(τ[1], τ[3])\n",
    "@show Δ(τ[3], τ[1])\n",
    "\n",
    "s = deepcopy(init_0)   \n",
    "for index1 = 1:2, index2 = 1:2\n",
    "    # 4 arrangements of creation and annihilation operators\n",
    "    conf = Configuration(nodes, [NodePair(n_f.time, τ[2], index1), NodePair(τ[1], τ[3], index2)])\n",
    "    @show v1 = cfg.eval(ppsc_exp, conf)\n",
    "    s += v1\n",
    "    conf = Configuration(nodes, [NodePair(τ[2], n_f.time, index1), NodePair(τ[1], τ[3], index2)])\n",
    "    @show v2 = cfg.eval(ppsc_exp, conf)\n",
    "    s += v2\n",
    "    conf = Configuration(nodes, [NodePair(n_f.time, τ[2], index1), NodePair(τ[3], τ[1], index2)])\n",
    "    @show v3 = cfg.eval(ppsc_exp, conf)\n",
    "    s += v3\n",
    "    conf = Configuration(nodes, [NodePair(τ[2], n_f.time, index1), NodePair(τ[3], τ[1], index2)])\n",
    "    @show v4 = cfg.eval(ppsc_exp, conf)\n",
    "    s += v4\n",
    "end\n",
    "    \n",
    "println(s)"
   ]
  },
  {
   "cell_type": "code",
   "execution_count": null,
   "metadata": {},
   "outputs": [],
   "source": []
  }
 ],
 "metadata": {
  "kernelspec": {
   "display_name": "Julia 1.6.0",
   "language": "julia",
   "name": "julia-1.6"
  },
  "language_info": {
   "file_extension": ".jl",
   "mimetype": "application/julia",
   "name": "julia",
   "version": "1.6.0"
  }
 },
 "nbformat": 4,
 "nbformat_minor": 5
}

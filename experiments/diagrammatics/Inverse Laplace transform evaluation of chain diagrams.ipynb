{
 "cells": [
  {
   "cell_type": "markdown",
   "id": "a96e1c85-c4f1-4da1-a444-21e4b770f039",
   "metadata": {},
   "source": [
    "# Inverse Laplace transform evaluation of chain diagrams"
   ]
  },
  {
   "cell_type": "code",
   "execution_count": 3,
   "id": "d1e3377f-6f9f-4762-ab36-c0e272b486e8",
   "metadata": {},
   "outputs": [
    {
     "name": "stdout",
     "output_type": "stream",
     "text": [
      "α = 0.000, n =     1\t d_n = 1.0000000000e+00\n",
      "α = 0.000, n =     2\t d_n = 1.0000000000e+00\n",
      "α = 0.000, n =     3\t d_n = 1.0000000000e+00\n",
      "α = 0.000, n =     4\t d_n = 1.0000000000e+00\n",
      "α = 0.000, n =     5\t d_n = 1.0000000000e+00\n",
      "α = 0.000, n =    10\t d_n = 1.0000000000e+00\n",
      "α = 0.000, n =  1000\t d_n = 1.0000000000e+00\n",
      "α = 0.000, n =  2000\t d_n = 1.0000000000e+00\n",
      "α = 0.000, n =  4000\t d_n = 1.0000000000e+00\n",
      "α = 0.500, n =     1\t d_n = 8.5224527770e-01\n",
      "α = 0.500, n =     2\t d_n = 6.7808634694e-01\n",
      "α = 0.500, n =     3\t d_n = 6.1196873349e-01\n",
      "α = 0.500, n =     4\t d_n = 5.7767763926e-01\n",
      "α = 0.500, n =     5\t d_n = 5.5680280079e-01\n",
      "α = 0.500, n =    10\t d_n = 5.1462739416e-01\n",
      "α = 0.500, n =  1000\t d_n = 4.7278728641e-01\n",
      "α = 0.500, n =  2000\t d_n = 4.7257691154e-01\n",
      "α = 0.500, n =  4000\t d_n = 4.7247173013e-01\n",
      "α = 1.000, n =     1\t d_n = 7.3575888234e-01\n",
      "α = 1.000, n =     2\t d_n = 4.7022487565e-01\n",
      "α = 1.000, n =     3\t d_n = 3.8123919564e-01\n",
      "α = 1.000, n =     4\t d_n = 3.3832491320e-01\n",
      "α = 1.000, n =     5\t d_n = 3.1340778107e-01\n",
      "α = 1.000, n =    10\t d_n = 2.6610183889e-01\n",
      "α = 1.000, n =  1000\t d_n = 2.2353485231e-01\n",
      "α = 1.000, n =  2000\t d_n = 2.2333243906e-01\n",
      "α = 1.000, n =  4000\t d_n = 2.2323128281e-01\n",
      "α = 2.000, n =     1\t d_n = 5.6766764162e-01\n",
      "α = 2.000, n =     2\t d_n = 2.4087713915e-01\n",
      "α = 2.000, n =     3\t d_n = 1.5601133940e-01\n",
      "α = 2.000, n =     4\t d_n = 1.2098561273e-01\n",
      "α = 2.000, n =     5\t d_n = 1.0264079046e-01\n",
      "α = 2.000, n =    10\t d_n = 7.2185296505e-02\n",
      "α = 2.000, n =  1000\t d_n = 4.9974120200e-02\n",
      "α = 2.000, n =  2000\t d_n = 4.9880506670e-02\n",
      "α = 2.000, n =  4000\t d_n = 4.9833765628e-02\n"
     ]
    }
   ],
   "source": [
    "using InverseLaplace: Talbot\n",
    "using Printf\n",
    "\n",
    "\"\"\"\n",
    "Make the Laplace image of d_n(α, x) w.r.t. x\n",
    "\"\"\"\n",
    "function make_Ldn(n, α)\n",
    "    return s -> factorial(big(2n)) / (s^2 * (s + α)^n * (s + 2α)^(n-1))\n",
    "end\n",
    "\n",
    "# Multi-precision Laplace transform inversion\n",
    "# Abate, J. and Valkó, P.P.\n",
    "# International Journal for Numerical Methods in Engineering, Vol. 60 (Iss. 5-7)  2004  pp 979–993\n",
    "# https://doi.org/10.1002/nme.995\n",
    "\n",
    "setprecision(BigFloat, 4000)\n",
    "\n",
    "for α in [0.0, 0.5, 1.0, 2.0]\n",
    "    for n in [1, 2, 3, 4, 5, 10, 1000, 2000, 4000]\n",
    "        Nterms = max(2n, 100) # max() ensures we use enough terms at low n\n",
    "        d_n = Talbot(make_Ldn(n, α), Nterms)(big(1.0))\n",
    "        @printf \"α = %.3f, n = %5i\\t d_n = %.10e\\n\" α n d_n;\n",
    "    end\n",
    "end"
   ]
  }
 ],
 "metadata": {
  "kernelspec": {
   "display_name": "Julia 1.9.4",
   "language": "julia",
   "name": "julia-1.9"
  },
  "language_info": {
   "file_extension": ".jl",
   "mimetype": "application/julia",
   "name": "julia",
   "version": "1.9.4"
  }
 },
 "nbformat": 4,
 "nbformat_minor": 5
}

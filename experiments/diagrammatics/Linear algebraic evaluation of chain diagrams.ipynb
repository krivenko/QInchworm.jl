{
 "cells": [
  {
   "cell_type": "markdown",
   "id": "83812f28-7750-4384-85e3-af5241aee88b",
   "metadata": {},
   "source": [
    "# Linear algebraic chain diagram evaluation"
   ]
  },
  {
   "cell_type": "code",
   "execution_count": 5,
   "id": "02c2c1f1-3256-45ea-94eb-20b8b543d6a7",
   "metadata": {},
   "outputs": [
    {
     "name": "stdout",
     "output_type": "stream",
     "text": [
      "get_d_n(big(1), 20) = [0.7357588823428847, 0.4702248756489076, 0.38123919564475617, 0.33832491319786717, 0.3134077810702321, 0.2972285737620779, 0.28591192689293915, 0.2775666008227256, 0.2711648357726401, 0.2661018388852744, 0.26199921535556575, 0.2586084132389676, 0.25575958085437395, 0.2533327786347073, 0.25124094067300673, 0.24941935695122644, 0.24781894397437107, 0.24640180430464295, 0.24513821665406524, 0.24400454692139462]\n"
     ]
    },
    {
     "data": {
      "text/plain": [
       "20-element Vector{Float64}:\n",
       " 0.7357588823428847\n",
       " 0.4702248756489076\n",
       " 0.38123919564475617\n",
       " 0.33832491319786717\n",
       " 0.3134077810702321\n",
       " 0.2972285737620779\n",
       " 0.28591192689293915\n",
       " 0.2775666008227256\n",
       " 0.2711648357726401\n",
       " 0.2661018388852744\n",
       " 0.26199921535556575\n",
       " 0.2586084132389676\n",
       " 0.25575958085437395\n",
       " 0.2533327786347073\n",
       " 0.25124094067300673\n",
       " 0.24941935695122644\n",
       " 0.24781894397437107\n",
       " 0.24640180430464295\n",
       " 0.24513821665406524\n",
       " 0.24400454692139462"
      ]
     },
     "execution_count": 5,
     "metadata": {},
     "output_type": "execute_result"
    }
   ],
   "source": [
    "using LinearAlgebra: dot\n",
    "using SpecialFunctions: gamma_inc\n",
    "\n",
    "# Restrict ourselves to integer values of α for now\n",
    "function get_d_n(α::BigInt, n_max::Int)\n",
    "    @assert n_max >= 1\n",
    "\n",
    "    c_n = BigInt(1) // α\n",
    "    \n",
    "    p_n = Vector{Rational{BigInt}}(undef, n_max)\n",
    "    p_n1 = Vector{Rational{BigInt}}(undef, n_max)\n",
    "    q_n = Vector{Rational{BigInt}}(undef, n_max)\n",
    "    q_n1 = Vector{Rational{BigInt}}(undef, n_max)\n",
    "\n",
    "    # Initial conditions\n",
    "    p_n[1] = - 1 // α\n",
    "    q_n[1] = 0\n",
    "\n",
    "    # g_n(α), g_n(2α)\n",
    "    g_n_α = [gamma_inc(n, α)[1] for n=1:n_max]\n",
    "    g_n_2α = [gamma_inc(n, 2α)[1] for n=1:n_max]\n",
    "    \n",
    "    # W_n\n",
    "    W_n = [1 // 2^i for i=1:n_max]\n",
    "\n",
    "    # Computation results\n",
    "    d_n = Vector{Float64}(undef, n_max)\n",
    "    \n",
    "    for n=1:n_max\n",
    "        d_n[n] = (2n) / α * (\n",
    "            α * c_n +\n",
    "            dot(g_n_α[1:n], p_n[1:n]) +\n",
    "            dot(g_n_2α[1:n], W_n[1:n] .* q_n[1:n])\n",
    "        )\n",
    "\n",
    "        n == n_max && break\n",
    "\n",
    "        A_n = [(i <= j+1) ? (-1)^(i-j+1) : 0 for i=1:(n+1), j=1:n]\n",
    "        B_n = [(i <= j+1) ? -1 : 0 for i=1:(n+1), j=1:n]\n",
    "        U_n = [(i == 1) ? (-1)^(j-1) : 0 for i=1:(n+1), j=1:n]\n",
    "        V_n = [(i == 1) ? 1 : 0 for i=1:(n+1), j=1:n]\n",
    "\n",
    "        p_n1[1:n+1] = A_n * p_n[1:n] + V_n * q_n[1:n]\n",
    "        p_n1[1] -= c_n\n",
    "        q_n1[1:n+1] = B_n * q_n[1:n] + U_n * p_n[1:n]\n",
    "        q_n1[1] += c_n // 2\n",
    "        \n",
    "        p_n[1:n+1] = (2n+1)*2n // (α^2) * p_n1[1:n+1]\n",
    "        q_n[1:n+1] = (2n+1)*2n // (α^2) * q_n1[1:n+1]\n",
    "        c_n = c_n * (2n+1)*2n // (2α^2)\n",
    "    end\n",
    "\n",
    "    return d_n\n",
    "end\n",
    "\n",
    "@show get_d_n(big(1), 20)"
   ]
  },
  {
   "cell_type": "markdown",
   "id": "fe8f3509-5220-4f91-a8e9-297bd86bb1f6",
   "metadata": {},
   "source": [
    "# Integral recurrence for $d_n(x)$"
   ]
  },
  {
   "cell_type": "code",
   "execution_count": 62,
   "id": "637b6a20-25ea-4d0f-ac5d-668122b6e01c",
   "metadata": {},
   "outputs": [
    {
     "data": {
      "text/plain": [
       "100-element Vector{Float64}:\n",
       " 0.7357588823428847\n",
       " 0.4702248756489076\n",
       " 0.38123919564475617\n",
       " 0.33832491319786717\n",
       " 0.3134077810702321\n",
       " 0.2972285737620779\n",
       " 0.28591192689293915\n",
       " 0.2775666008227256\n",
       " 0.2711648357726401\n",
       " 0.2661018388852744\n",
       " 0.26199921535556575\n",
       " 0.2586084132389676\n",
       " 0.25575958085437395\n",
       " ⋮\n",
       " 0.22770798387745225\n",
       " 0.22765675071166455\n",
       " 0.22760665150902204\n",
       " 0.2275576490373374\n",
       " 0.2275097076765948\n",
       " 0.22746279333263206\n",
       " 0.22741687335630925\n",
       " 0.2273719164677619\n",
       " 0.22732789268536852\n",
       " 0.22728477325909474\n",
       " 0.22724253060790175\n",
       " 0.22720113826093363"
      ]
     },
     "execution_count": 62,
     "metadata": {},
     "output_type": "execute_result"
    }
   ],
   "source": [
    "using Polynomials\n",
    "using LinearAlgebra: dot\n",
    "\n",
    "function get_d_n_from_int_x(α::Real, n_max::Int, degree::Int)\n",
    "    d_n = Vector{Float64}(undef, n_max)\n",
    "    \n",
    "    # Coefficients of polynomial interpolation of d_1(α, x)\n",
    "    p = BigFloat[i>=2 ? (2 * (-1)^i * α^(i-2) / factorial(big(i))) : 0 for i in 0:degree]\n",
    "    d_n[1] = Polynomial(p)(1.0)\n",
    "\n",
    "    # Operational matrix of the integral operator K(x-x')\n",
    "    Kmat = zeros(BigFloat, degree + 1, degree + 1)\n",
    "    for k in 0:degree\n",
    "        for i in 1:(degree - k)\n",
    "            f = prod(big(k+j) for j in 1:i)\n",
    "            Kmat[k + i + 1, k + 1] = (-1)^(i-1) * α^(i-2) / f * (1.0 - 2^(i-1))\n",
    "        end\n",
    "    end\n",
    "    \n",
    "    for n in 2:n_max\n",
    "        p = 2n * (2n-1) * Kmat * p\n",
    "        d_n[n] = Polynomial(p)(1.0)\n",
    "    end\n",
    "\n",
    "    return d_n\n",
    "end\n",
    "\n",
    "get_d_n_from_int_x(1.0, 100, 300)"
   ]
  }
 ],
 "metadata": {
  "kernelspec": {
   "display_name": "Julia 1.8.5",
   "language": "julia",
   "name": "julia-1.8"
  },
  "language_info": {
   "file_extension": ".jl",
   "mimetype": "application/julia",
   "name": "julia",
   "version": "1.9.4"
  }
 },
 "nbformat": 4,
 "nbformat_minor": 5
}

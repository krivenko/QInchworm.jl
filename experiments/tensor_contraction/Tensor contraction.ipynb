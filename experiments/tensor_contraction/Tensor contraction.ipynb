{
 "cells": [
  {
   "cell_type": "markdown",
   "id": "242ed4b2-c7e5-4821-97a8-a17f943f5659",
   "metadata": {},
   "source": [
    "# Fast tensor contraction"
   ]
  },
  {
   "cell_type": "markdown",
   "id": "99fb05c8-13f4-496e-94c0-5ac49d2af207",
   "metadata": {},
   "source": [
    "## Block-sparse tensor construction"
   ]
  },
  {
   "cell_type": "code",
   "execution_count": 1,
   "id": "1979d6db-7703-481b-9b01-6d88ef327e48",
   "metadata": {},
   "outputs": [],
   "source": [
    "using ITensors: BlockSparseTensor, Block, contract"
   ]
  },
  {
   "cell_type": "code",
   "execution_count": 2,
   "id": "d89f40c5-2280-494c-91fd-f018dfda1dac",
   "metadata": {},
   "outputs": [
    {
     "data": {
      "text/plain": [
       "Dim 1: [2, 2, 3]\n",
       "Dim 2: [4, 3]\n",
       "Dim 3: [3, 4]\n",
       "NDTensors.BlockSparse{ComplexF64, Vector{ComplexF64}, 3}\n",
       " 7×7×7\n",
       "Block(1, 1, 1)\n",
       " [1:2, 1:4, 1:3]\n",
       "[:, :, 1] =\n",
       " 0.0 + 0.0im  0.0 + 0.0im  0.0 + 0.0im  0.0 + 0.0im\n",
       " 0.0 + 0.0im  0.0 + 0.0im  0.0 + 0.0im  0.0 + 0.0im\n",
       "\n",
       "[:, :, 2] =\n",
       " 0.0 + 0.0im  0.0 + 0.0im  0.0 + 0.0im  0.0 + 0.0im\n",
       " 0.0 + 0.0im  0.0 + 0.0im  0.0 + 0.0im  0.0 + 0.0im\n",
       "\n",
       "[:, :, 3] =\n",
       " 0.0 + 0.0im  0.0 + 0.0im  0.0 + 0.0im  0.0 + 0.0im\n",
       " 0.0 + 0.0im  0.0 + 0.0im  0.0 + 0.0im  0.0 + 0.0im\n",
       "\n",
       "Block(3, 2, 2)\n",
       " [5:7, 5:7, 4:7]\n",
       "[:, :, 1] =\n",
       " 0.0 + 0.0im  0.0 + 0.0im  0.0 + 0.0im\n",
       " 0.0 + 0.0im  0.0 + 0.0im  0.0 + 0.0im\n",
       " 0.0 + 0.0im  0.0 + 0.0im  0.0 + 0.0im\n",
       "\n",
       "[:, :, 2] =\n",
       " 0.0 + 0.0im  0.0 + 0.0im  0.0 + 0.0im\n",
       " 0.0 + 0.0im  0.0 + 0.0im  0.0 + 0.0im\n",
       " 0.0 + 0.0im  0.0 + 0.0im  0.0 + 0.0im\n",
       "\n",
       "[:, :, 3] =\n",
       " 0.0 + 0.0im  0.0 + 0.0im  0.0 + 0.0im\n",
       " 0.0 + 0.0im  0.0 + 0.0im  0.0 + 0.0im\n",
       " 0.0 + 0.0im  0.0 + 0.0im  0.0 + 0.0im\n",
       "\n",
       "[:, :, 4] =\n",
       " 0.0 + 0.0im  0.0 + 0.0im  0.0 + 0.0im\n",
       " 0.0 + 0.0im  0.0 + 0.0im  0.0 + 0.0im\n",
       " 0.0 + 0.0im  0.0 + 0.0im  0.0 + 0.0im"
      ]
     },
     "execution_count": 2,
     "metadata": {},
     "output_type": "execute_result"
    }
   ],
   "source": [
    "# N = 3\n",
    "# 1st dimension => 3 blocks of sizes 2, 2, 3\n",
    "# 2nd dimension => 2 blocks of sizes 4, 3\n",
    "# 3rd dimension => 2 blocks of sizes 3, 4\n",
    "bst_dims = ([2, 2, 3], [4, 3], [3, 4])\n",
    "# Multi-indices of two non-vanishing blocks\n",
    "bst_blocks = [(1, 1, 1), (3, 2, 2)]\n",
    "\n",
    "# Construct a block-sparse tensor with zero-initialized memory\n",
    "bst = BlockSparseTensor{ComplexF64}(bst_blocks, bst_dims...)"
   ]
  },
  {
   "cell_type": "markdown",
   "id": "f8bdde05-a6f5-4dde-9151-1f2210d0fe30",
   "metadata": {},
   "source": [
    "## Access to individual blocks"
   ]
  },
  {
   "cell_type": "code",
   "execution_count": 3,
   "id": "2ece9c4a-2451-4b43-8a18-9b4a52b3918a",
   "metadata": {},
   "outputs": [
    {
     "name": "stdout",
     "output_type": "stream",
     "text": [
      "bst = Dim 1: [2, 2, 3]\n",
      "Dim 2: [4, 3]\n",
      "Dim 3: [3, 4]\n",
      "NDTensors.BlockSparse{ComplexF64, Vector{ComplexF64}, 3}\n",
      " 7×7×7\n",
      "Block(1, 1, 1)\n",
      " [1:2, 1:4, 1:3]\n",
      "[:, :, 1] =\n",
      " 2.0 + 0.0im  2.0 + 0.0im  2.0 + 0.0im  2.0 + 0.0im\n",
      " 2.0 + 0.0im  2.0 + 0.0im  2.0 + 0.0im  2.0 + 0.0im\n",
      "\n",
      "[:, :, 2] =\n",
      " 2.0 + 0.0im  2.0 + 0.0im  2.0 + 0.0im  2.0 + 0.0im\n",
      " 2.0 + 0.0im  2.0 + 0.0im  2.0 + 0.0im  2.0 + 0.0im\n",
      "\n",
      "[:, :, 3] =\n",
      " 2.0 + 0.0im  2.0 + 0.0im  2.0 + 0.0im  2.0 + 0.0im\n",
      " 2.0 + 0.0im  2.0 + 0.0im  2.0 + 0.0im  2.0 + 0.0im\n",
      "\n",
      "Block(3, 2, 2)\n",
      " [5:7, 5:7, 4:7]\n",
      "[:, :, 1] =\n",
      " 3.0 + 0.0im  3.0 + 0.0im  3.0 + 0.0im\n",
      " 3.0 + 0.0im  3.0 + 0.0im  3.0 + 0.0im\n",
      " 3.0 + 0.0im  3.0 + 0.0im  3.0 + 0.0im\n",
      "\n",
      "[:, :, 2] =\n",
      " 3.0 + 0.0im  3.0 + 0.0im  3.0 + 0.0im\n",
      " 3.0 + 0.0im  3.0 + 0.0im  3.0 + 0.0im\n",
      " 3.0 + 0.0im  3.0 + 0.0im  3.0 + 0.0im\n",
      "\n",
      "[:, :, 3] =\n",
      " 3.0 + 0.0im  3.0 + 0.0im  3.0 + 0.0im\n",
      " 3.0 + 0.0im  3.0 + 0.0im  3.0 + 0.0im\n",
      " 3.0 + 0.0im  3.0 + 0.0im  3.0 + 0.0im\n",
      "\n",
      "[:, :, 4] =\n",
      " 3.0 + 0.0im  3.0 + 0.0im  3.0 + 0.0im\n",
      " 3.0 + 0.0im  3.0 + 0.0im  3.0 + 0.0im\n",
      " 3.0 + 0.0im  3.0 + 0.0im  3.0 + 0.0im\n"
     ]
    },
    {
     "data": {
      "text/plain": [
       "Dim 1: [2, 2, 3]\n",
       "Dim 2: [4, 3]\n",
       "Dim 3: [3, 4]\n",
       "NDTensors.BlockSparse{ComplexF64, Vector{ComplexF64}, 3}\n",
       " 7×7×7\n",
       "Block(1, 1, 1)\n",
       " [1:2, 1:4, 1:3]\n",
       "[:, :, 1] =\n",
       " 2.0 + 0.0im  2.0 + 0.0im  2.0 + 0.0im  2.0 + 0.0im\n",
       " 2.0 + 0.0im  2.0 + 0.0im  2.0 + 0.0im  2.0 + 0.0im\n",
       "\n",
       "[:, :, 2] =\n",
       " 2.0 + 0.0im  2.0 + 0.0im  2.0 + 0.0im  2.0 + 0.0im\n",
       " 2.0 + 0.0im  2.0 + 0.0im  2.0 + 0.0im  2.0 + 0.0im\n",
       "\n",
       "[:, :, 3] =\n",
       " 2.0 + 0.0im  2.0 + 0.0im  2.0 + 0.0im  2.0 + 0.0im\n",
       " 2.0 + 0.0im  2.0 + 0.0im  2.0 + 0.0im  2.0 + 0.0im\n",
       "\n",
       "Block(3, 2, 2)\n",
       " [5:7, 5:7, 4:7]\n",
       "[:, :, 1] =\n",
       " 3.0 + 0.0im  3.0 + 0.0im  3.0 + 0.0im\n",
       " 3.0 + 0.0im  3.0 + 0.0im  3.0 + 0.0im\n",
       " 3.0 + 0.0im  3.0 + 0.0im  3.0 + 0.0im\n",
       "\n",
       "[:, :, 2] =\n",
       " 3.0 + 0.0im  3.0 + 0.0im  3.0 + 0.0im\n",
       " 3.0 + 0.0im  3.0 + 0.0im  3.0 + 0.0im\n",
       " 3.0 + 0.0im  3.0 + 0.0im  3.0 + 0.0im\n",
       "\n",
       "[:, :, 3] =\n",
       " 3.0 + 0.0im  3.0 + 0.0im  3.0 + 0.0im\n",
       " 3.0 + 0.0im  3.0 + 0.0im  3.0 + 0.0im\n",
       " 3.0 + 0.0im  3.0 + 0.0im  3.0 + 0.0im\n",
       "\n",
       "[:, :, 4] =\n",
       " 3.0 + 0.0im  3.0 + 0.0im  3.0 + 0.0im\n",
       " 3.0 + 0.0im  3.0 + 0.0im  3.0 + 0.0im\n",
       " 3.0 + 0.0im  3.0 + 0.0im  3.0 + 0.0im"
      ]
     },
     "execution_count": 3,
     "metadata": {},
     "output_type": "execute_result"
    }
   ],
   "source": [
    "bst[Block(1, 1, 1)] = 2.0;\n",
    "bst[Block(3, 2, 2)] = 3.0;\n",
    "\n",
    "@show bst"
   ]
  },
  {
   "cell_type": "markdown",
   "id": "1dc6cc69-65a0-41f4-a7df-f21cd44e3df8",
   "metadata": {},
   "source": [
    "## Contraction of a chain tensor network ($n = 3$)"
   ]
  },
  {
   "cell_type": "code",
   "execution_count": 4,
   "id": "5b048154-d008-4612-863e-2190c4d89110",
   "metadata": {},
   "outputs": [],
   "source": [
    "# Propagators: 2 dimension, 3 square blocks per each dimension\n",
    "P_block_dims = ([2, 3, 4], [2, 3, 4])\n",
    "P_dims = sum.(P_block_dims)\n",
    "# The only non-zero blocks are diagonal\n",
    "P_blocks = [(i, i) for i in 1:length(first(P_block_dims))]\n",
    "\n",
    "P = [BlockSparseTensor{ComplexF64}(P_blocks, P_block_dims...) for i in 1:5];"
   ]
  },
  {
   "cell_type": "code",
   "execution_count": 5,
   "id": "17b987e2-ac1d-4378-b9c8-9d72b5b6dbe3",
   "metadata": {},
   "outputs": [],
   "source": [
    "# Test contraction of propagators alone\n",
    "\n",
    "using Random: MersenneTwister, rand\n",
    "rng = MersenneTwister(12345678)\n",
    "\n",
    "for i in 1:5\n",
    "    for b in 1:length(first(P_block_dims))\n",
    "        P[i][Block(b, b)] = rand(rng, P_block_dims[1][b], P_block_dims[2][b])\n",
    "    end\n",
    "end\n",
    "\n",
    "# Labels are attached to propagators as follows:\n",
    "# P5_{1,2} P4_{2,3} P3_{3,4} P2_{4,5} P1_{5,6}\n",
    "\n",
    "# Test contraction order: (P5 * (P4 * P3)) * (P2 * P1)\n",
    "R43 = contract(P[4], (2, 3), P[3], (3, 4), (2, 4));\n",
    "R543 = contract(P[5], (1, 2), R43, (2, 4), (1, 4));\n",
    "R21 = contract(P[2], (4, 5), P[1], (5, 6), (4, 6));\n",
    "R = contract(R543, (1, 4), R21, (4, 6), (1, 6))\n",
    "\n",
    "for b in 1:length(first(P_block_dims))\n",
    "    bl = Block(b, b)\n",
    "    R_mat = convert(Matrix{ComplexF64}, R[bl])\n",
    "    R_mat_ref = convert(Matrix{ComplexF64}, P[5][bl]) *\n",
    "                convert(Matrix{ComplexF64}, P[4][bl]) *\n",
    "                convert(Matrix{ComplexF64}, P[3][bl]) *\n",
    "                convert(Matrix{ComplexF64}, P[2][bl]) *\n",
    "                convert(Matrix{ComplexF64}, P[1][bl])\n",
    "    @assert isapprox(R_mat, R_mat_ref)\n",
    "end"
   ]
  },
  {
   "cell_type": "code",
   "execution_count": 6,
   "id": "d0a560d5-c7e2-4d47-aa8e-1d85b44f2b1c",
   "metadata": {},
   "outputs": [],
   "source": [
    "# Interaction lines\n",
    "# FIXME: Δ has to be a block-diagonal rank-2 tensor with N_int 1x1 non-zero blocks\n",
    "N_int = 6 # Number of pair interactions\n",
    "Δ = BlockSparseTensor{ComplexF64}([(b, b) for b in 1:N_int], ones(Int, N_int), ones(Int, N_int))\n",
    "\n",
    "# Interaction vertices: 3 dimensions\n",
    "# There is always only one block along the 1st dimenstion (interaction index)\n",
    "O_block_dims = ([N_int], P_block_dims...)\n",
    "O_blocks = sort([(1, 1, 2),\n",
    "                 (1, 2, 1),\n",
    "                 (1, 2, 3),\n",
    "                 (1, 3, 2),\n",
    "                 (1, 1, 3),\n",
    "                 (1, 3, 1)])\n",
    "\n",
    "O = BlockSparseTensor{ComplexF64}(O_blocks, O_block_dims...);"
   ]
  },
  {
   "cell_type": "code",
   "execution_count": 7,
   "id": "ae6709ab-ebc9-4540-8bad-a9ffd59e7878",
   "metadata": {},
   "outputs": [
    {
     "data": {
      "text/plain": [
       "972"
      ]
     },
     "execution_count": 7,
     "metadata": {},
     "output_type": "execute_result"
    }
   ],
   "source": [
    "using ITensors: nzblocks\n",
    "\n",
    "# TODO: It is necessary to store a list of non-zero blocks together with their sizes for the intermediate contraction results\n",
    "# These data are to be stored in a binary tree (c.f. `OMEinsumContractionOrders`)\n",
    "\n",
    "\"\"\"\n",
    "Cost of a single edge contraction.\n",
    "\"\"\"\n",
    "function edge_cost(T1::BlockSparseTensor, axis1::Int, T2::BlockSparseTensor, axis2)\n",
    "    cost = 0\n",
    "    # TODO: Optimize assuming that T1 and T2 are constructed from sorted lists of Blocks\n",
    "    for bl1 in nzblocks(T1)\n",
    "        for bl2 in nzblocks(T2)\n",
    "            if bl1[axis1] == bl2[axis2]\n",
    "                @assert size(T1[bl1], axis1) == size(T2[bl2], axis2)\n",
    "                cost += length(T1[bl1]) * \n",
    "                        prod(d -> (d == axis2) ? 1 : size(T2[bl2], d), 1:length(bl2))\n",
    "            end\n",
    "        end\n",
    "    end\n",
    "    return cost\n",
    "end\n",
    "\n",
    "edge_cost(O, 3, P[5], 1)"
   ]
  },
  {
   "cell_type": "code",
   "execution_count": 8,
   "id": "753bbc55-c70f-4465-a14d-38f1257acda5",
   "metadata": {},
   "outputs": [],
   "source": [
    "# TODO: List all edges of the chain diagram\n",
    "# TODO: Generate all contraction paths\n",
    "# TODO: define cost() for a contraction path"
   ]
  },
  {
   "cell_type": "markdown",
   "id": "f0d48862-a798-499b-98ec-e285d513f075",
   "metadata": {},
   "source": [
    "## `EinCode` optimization"
   ]
  },
  {
   "cell_type": "code",
   "execution_count": 19,
   "id": "df41a1af-006a-4105-ac10-c583ea9a5a2d",
   "metadata": {},
   "outputs": [],
   "source": [
    "using OMEinsumContractionOrders: EinCode, uniformsize, contraction_complexity, optimize_code, GreedyMethod, TreeSA"
   ]
  },
  {
   "cell_type": "code",
   "execution_count": 20,
   "id": "23814950-3021-475a-8802-50adcd40b164",
   "metadata": {},
   "outputs": [
    {
     "data": {
      "text/plain": [
       "1∘2, 2∘3, 3∘4, 4∘1 -> "
      ]
     },
     "execution_count": 20,
     "metadata": {},
     "output_type": "execute_result"
    }
   ],
   "source": [
    "# Equivalent to ein\"ij,jk,kl,li->\"\n",
    "code = EinCode([[1, 2], [2, 3], [3, 4], [4, 1]], Int[])"
   ]
  },
  {
   "cell_type": "code",
   "execution_count": 21,
   "id": "5ca45295-a4a5-4eab-aeaf-b1217c0ceeac",
   "metadata": {},
   "outputs": [
    {
     "data": {
      "text/plain": [
       "Dict{Int64, Int64} with 4 entries:\n",
       "  4 => 10\n",
       "  2 => 10\n",
       "  3 => 10\n",
       "  1 => 10"
      ]
     },
     "execution_count": 21,
     "metadata": {},
     "output_type": "execute_result"
    }
   ],
   "source": [
    "# size of the labels is set to 10\n",
    "size_dict = uniformsize(code, 10)"
   ]
  },
  {
   "cell_type": "code",
   "execution_count": 22,
   "id": "8698e748-0200-451f-be63-338602ae1f49",
   "metadata": {},
   "outputs": [
    {
     "data": {
      "text/plain": [
       "Time complexity: 2^13.287712379549449\n",
       "Space complexity: 2^0.0\n",
       "Read-write complexity: 2^8.64745842645492"
      ]
     },
     "execution_count": 22,
     "metadata": {},
     "output_type": "execute_result"
    }
   ],
   "source": [
    "contraction_complexity(code, size_dict)"
   ]
  },
  {
   "cell_type": "code",
   "execution_count": 24,
   "id": "749e32cb-a390-4a46-b6a7-613dd3ff538f",
   "metadata": {},
   "outputs": [
    {
     "name": "stdout",
     "output_type": "stream",
     "text": [
      "optimize_code(code, size_dict, TreeSA()) = OMEinsumContractionOrders.SlicedEinsum{Int64, NestedEinsum{Int64}}(Int64[], 3∘2, 2∘3 -> \n",
      "├─ 3∘4, 2∘4 -> 3∘2\n",
      "│  ├─ 3∘4\n",
      "│  └─ 1∘2, 4∘1 -> 2∘4\n",
      "│     ├─ 1∘2\n",
      "│     └─ 4∘1\n",
      "└─ 2∘3\n",
      ")\n",
      "optimize_code(code, size_dict, GreedyMethod()) = 1∘4, 4∘1 -> \n",
      "├─ 1∘3, 3∘4 -> 1∘4\n",
      "│  ├─ 1∘2, 2∘3 -> 1∘3\n",
      "│  │  ├─ 1∘2\n",
      "│  │  └─ 2∘3\n",
      "│  └─ 3∘4\n",
      "└─ 4∘1\n",
      "\n"
     ]
    }
   ],
   "source": [
    "@show optimize_code(code, size_dict, TreeSA());\n",
    "@show optimize_code(code, size_dict, GreedyMethod());"
   ]
  },
  {
   "cell_type": "markdown",
   "id": "86bdee4d-3f3d-48c8-93ed-60aaa733d946",
   "metadata": {},
   "source": [
    "## Generalization of `OMEinsumContractionOrders.contraction_complexity()` to block-sparse contraction"
   ]
  },
  {
   "cell_type": "code",
   "execution_count": 14,
   "id": "8f48fd6b-4d4c-4492-976d-42d947d434ab",
   "metadata": {},
   "outputs": [],
   "source": [
    "using ITensors: BlockDims\n",
    "\n",
    "struct BlockSparseStruct{N}\n",
    "    \"Dimensions of tensor blocks\"\n",
    "    dims::BlockDims{N}\n",
    "    \"Indices of non-zero blocks\"\n",
    "    nzblocks::Vector{NTuple{N, <:Integer}}\n",
    "end"
   ]
  },
  {
   "cell_type": "markdown",
   "id": "46bb3712-9de3-4803-b389-b8d749a67a17",
   "metadata": {},
   "source": [
    "### Compute peak memory"
   ]
  },
  {
   "cell_type": "code",
   "execution_count": 15,
   "id": "8a98b8bb-408e-44bc-b65c-342fe86eacf3",
   "metadata": {},
   "outputs": [
    {
     "data": {
      "text/plain": [
       "_mem (generic function with 1 method)"
      ]
     },
     "execution_count": 15,
     "metadata": {},
     "output_type": "execute_result"
    }
   ],
   "source": [
    "using OMEinsumContractionOrders: NestedEinsum\n",
    "\n",
    "\"\"\"\n",
    "    peak_memory(code, block_struct::Vector{BlockSparseStruct}) -> Int\n",
    "\n",
    "Estimate peak memory in number of elements.\n",
    "\"\"\"\n",
    "function peak_memory(code::NestedEinsum, block_struct::Vector{BlockSparseStruct})    \n",
    "    # `largest_size` is the largest size during contraction\n",
    "    largest_size = 0\n",
    "    # `tempsize` is the memory to store contraction results from previous branches\n",
    "    tempsize = 0\n",
    "    for arg in code.args\n",
    "        if isleaf(arg)\n",
    "            largest_size_arg = _mem(arg, block_struct) + tempsize\n",
    "        else\n",
    "            largest_size_arg = peak_memory(arg, block_struct) + tempsize\n",
    "        end\n",
    "        tempsize += _mem(arg, block_struct)\n",
    "        largest_size = max(largest_size, largest_size_arg)\n",
    "    end\n",
    "    # compare with currect contraction\n",
    "    return max(largest_size, tempsize + _mem(code, block_dims, nzblocks))\n",
    "end\n",
    "\n",
    "function _mem(code::NestedEinsum, block_struct::Vector{BlockSparseStruct})\n",
    "    iy = getiyv(code)\n",
    "    @assert code.tensorindex != -1\n",
    "    bs = block_struct[code.tensorindex]\n",
    "    if isempty(iy)\n",
    "        return 0\n",
    "    else\n",
    "        return sum(b -> prod((d, i) -> block_struct.dims[d][i], enumerate(b)), bs.nzblocks)\n",
    "    end\n",
    "end"
   ]
  },
  {
   "cell_type": "markdown",
   "id": "20221ee7-3985-497e-8dd3-f97bcd4a3fb7",
   "metadata": {},
   "source": [
    "## `TreeSA`: Simulated annealing on tensor expression tree"
   ]
  },
  {
   "cell_type": "code",
   "execution_count": 16,
   "id": "521f7061-5f4e-4ffe-ad94-75399b893e26",
   "metadata": {},
   "outputs": [],
   "source": [
    "using OMEinsumContractionOrders: TreeSA, getixsv, getiyv, IncidenceList, vertices"
   ]
  },
  {
   "cell_type": "code",
   "execution_count": 17,
   "id": "292ff337-cbed-4187-b832-16a2de3564f2",
   "metadata": {},
   "outputs": [
    {
     "data": {
      "text/plain": [
       "OMEinsumContractionOrders.SlicedEinsum{Int64, NestedEinsum{Int64}}(Int64[], 10∘16∘1∘2∘11∘22, 7∘8∘8∘10∘11∘2 -> 1∘7∘16∘22\n",
       "├─ 10∘14∘14∘16∘17∘17, 1∘2∘11∘22∘17∘17 -> 10∘16∘1∘2∘11∘22\n",
       "│  ├─ 10∘14∘14∘16∘17∘17\n",
       "│  └─ 1∘2∘4∘11∘17∘17, 4∘17∘17∘22∘23∘23 -> 1∘2∘11∘22∘17∘17\n",
       "│     ├─ 1∘2∘3∘4∘5∘5, 11∘17∘17∘3 -> 1∘2∘4∘11∘17∘17\n",
       "│     │  ├─ 1∘2∘3∘4∘5∘5\n",
       "│     │  └─ 11∘17∘17∘3\n",
       "│     └─ 4∘17∘17∘22∘23∘23\n",
       "└─ 7∘8∘8∘10∘11∘2\n",
       ")"
      ]
     },
     "execution_count": 17,
     "metadata": {},
     "output_type": "execute_result"
    }
   ],
   "source": [
    "ixs = [collect(1:6),\n",
    "       collect(7:12),\n",
    "       collect(13:18),\n",
    "       collect(19:24),\n",
    "       collect(25:28)]\n",
    "\n",
    "ixs = [replace(ix, 6=>5, 9=>8, 15=>14, 24=>23,\n",
    "                   12=>2, 25=>11, 28=>3,\n",
    "                   19=>4, 13=>10,\n",
    "                   18=>17, 20=>17, 21=>17, 26=>17, 27=>17) for ix in ixs]\n",
    "\n",
    "iy = [1, 7, 16, 22]\n",
    "code = EinCode(ixs, iy)\n",
    "\n",
    "opt_code = optimize_code(code, uniformsize(code, 2), TreeSA())"
   ]
  },
  {
   "cell_type": "code",
   "execution_count": 18,
   "id": "795904aa-70ca-4977-b10f-25568d201a02",
   "metadata": {},
   "outputs": [
    {
     "data": {
      "text/plain": [
       "BlockedExprInfo"
      ]
     },
     "execution_count": 18,
     "metadata": {},
     "output_type": "execute_result"
    }
   ],
   "source": [
    "################### expression tree ###################\n",
    "# `BlockedExprInfo` stores the node information.\n",
    "# * `out_block_dims` is the output block dimensions of this tree/subtree.\n",
    "# * `out_nzblocks`  are multi-indices of nonzero output blocks of this tree/subtree.\n",
    "# * `tensorid` specifies the tensor index for leaf nodes. It is `-1` for a non-leaf node.\n",
    "struct BlockedExprInfo\n",
    "    out_block_dims::Vector{Vector{Int}}\n",
    "    out_nzblocks::Vector{Vector{Int}}\n",
    "    tensorid::Int\n",
    "end\n",
    "BlockedExprInfo(out_block_dims::Vector{Vector{Int}}, out_nzblocks::Vector{Vector{Int}}) = BlockedExprInfo(out_block_dims, out_nzblocks, -1)"
   ]
  }
 ],
 "metadata": {
  "kernelspec": {
   "display_name": "Julia 1.9.4",
   "language": "julia",
   "name": "julia-1.9"
  },
  "language_info": {
   "file_extension": ".jl",
   "mimetype": "application/julia",
   "name": "julia",
   "version": "1.9.4"
  }
 },
 "nbformat": 4,
 "nbformat_minor": 5
}

{
 "cells": [
  {
   "cell_type": "markdown",
   "id": "242ed4b2-c7e5-4821-97a8-a17f943f5659",
   "metadata": {},
   "source": [
    "# Fast tensor contraction"
   ]
  },
  {
   "cell_type": "markdown",
   "id": "99fb05c8-13f4-496e-94c0-5ac49d2af207",
   "metadata": {},
   "source": [
    "## Block-sparse tensor construction"
   ]
  },
  {
   "cell_type": "code",
   "execution_count": 64,
   "id": "1979d6db-7703-481b-9b01-6d88ef327e48",
   "metadata": {},
   "outputs": [],
   "source": [
    "using ITensors: BlockSparseTensor"
   ]
  },
  {
   "cell_type": "code",
   "execution_count": 65,
   "id": "d89f40c5-2280-494c-91fd-f018dfda1dac",
   "metadata": {},
   "outputs": [
    {
     "data": {
      "text/plain": [
       "Dim 1: [2, 2, 3]\n",
       "Dim 2: [4, 3]\n",
       "Dim 3: [3, 4]\n",
       "NDTensors.BlockSparse{ComplexF64, Vector{ComplexF64}, 3}\n",
       " 7×7×7\n",
       "Block(1, 1, 1)\n",
       " [1:2, 1:4, 1:3]\n",
       "[:, :, 1] =\n",
       " 0.0 + 0.0im  0.0 + 0.0im  0.0 + 0.0im  0.0 + 0.0im\n",
       " 0.0 + 0.0im  0.0 + 0.0im  0.0 + 0.0im  0.0 + 0.0im\n",
       "\n",
       "[:, :, 2] =\n",
       " 0.0 + 0.0im  0.0 + 0.0im  0.0 + 0.0im  0.0 + 0.0im\n",
       " 0.0 + 0.0im  0.0 + 0.0im  0.0 + 0.0im  0.0 + 0.0im\n",
       "\n",
       "[:, :, 3] =\n",
       " 0.0 + 0.0im  0.0 + 0.0im  0.0 + 0.0im  0.0 + 0.0im\n",
       " 0.0 + 0.0im  0.0 + 0.0im  0.0 + 0.0im  0.0 + 0.0im\n",
       "\n",
       "Block(3, 2, 2)\n",
       " [5:7, 5:7, 4:7]\n",
       "[:, :, 1] =\n",
       " 0.0 + 0.0im  0.0 + 0.0im  0.0 + 0.0im\n",
       " 0.0 + 0.0im  0.0 + 0.0im  0.0 + 0.0im\n",
       " 0.0 + 0.0im  0.0 + 0.0im  0.0 + 0.0im\n",
       "\n",
       "[:, :, 2] =\n",
       " 0.0 + 0.0im  0.0 + 0.0im  0.0 + 0.0im\n",
       " 0.0 + 0.0im  0.0 + 0.0im  0.0 + 0.0im\n",
       " 0.0 + 0.0im  0.0 + 0.0im  0.0 + 0.0im\n",
       "\n",
       "[:, :, 3] =\n",
       " 0.0 + 0.0im  0.0 + 0.0im  0.0 + 0.0im\n",
       " 0.0 + 0.0im  0.0 + 0.0im  0.0 + 0.0im\n",
       " 0.0 + 0.0im  0.0 + 0.0im  0.0 + 0.0im\n",
       "\n",
       "[:, :, 4] =\n",
       " 0.0 + 0.0im  0.0 + 0.0im  0.0 + 0.0im\n",
       " 0.0 + 0.0im  0.0 + 0.0im  0.0 + 0.0im\n",
       " 0.0 + 0.0im  0.0 + 0.0im  0.0 + 0.0im"
      ]
     },
     "execution_count": 65,
     "metadata": {},
     "output_type": "execute_result"
    }
   ],
   "source": [
    "# N = 3\n",
    "# 1st dimension => 3 blocks of sizes 2, 2, 3\n",
    "# 2nd dimension => 2 blocks of sizes 4, 3\n",
    "# 3rd dimension => 2 blocks of sizes 3, 4\n",
    "dims = ([2, 2, 3], [4, 3], [3, 4])\n",
    "# Multi-indices of two non-vanishing blocks\n",
    "blocks = [(1, 1, 1), (3, 2, 2)]\n",
    "\n",
    "# Construct a block-sparse tensor with zero-initialized memory\n",
    "BlockSparseTensor{ComplexF64}(blocks, dims...)"
   ]
  },
  {
   "cell_type": "code",
   "execution_count": null,
   "id": "cec2eb1b-145a-415c-96fc-6a28a46268b3",
   "metadata": {},
   "outputs": [],
   "source": [
    "# TODO: Access to individual blocks\n",
    "# TODO: contraction of BlockSparseTensor"
   ]
  }
 ],
 "metadata": {
  "kernelspec": {
   "display_name": "Julia 1.9.4",
   "language": "julia",
   "name": "julia-1.9"
  },
  "language_info": {
   "file_extension": ".jl",
   "mimetype": "application/julia",
   "name": "julia",
   "version": "1.9.4"
  }
 },
 "nbformat": 4,
 "nbformat_minor": 5
}

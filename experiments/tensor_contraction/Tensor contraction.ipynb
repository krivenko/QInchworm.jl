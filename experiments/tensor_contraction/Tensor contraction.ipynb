{
 "cells": [
  {
   "cell_type": "markdown",
   "id": "242ed4b2-c7e5-4821-97a8-a17f943f5659",
   "metadata": {},
   "source": [
    "# Fast tensor contraction"
   ]
  },
  {
   "cell_type": "markdown",
   "id": "99fb05c8-13f4-496e-94c0-5ac49d2af207",
   "metadata": {},
   "source": [
    "## Block-sparse tensor construction"
   ]
  },
  {
   "cell_type": "code",
   "execution_count": 1,
   "id": "1979d6db-7703-481b-9b01-6d88ef327e48",
   "metadata": {},
   "outputs": [],
   "source": [
    "using ITensors: BlockSparseTensor, Block, contract"
   ]
  },
  {
   "cell_type": "code",
   "execution_count": 2,
   "id": "d89f40c5-2280-494c-91fd-f018dfda1dac",
   "metadata": {},
   "outputs": [
    {
     "data": {
      "text/plain": [
       "Dim 1: [2, 2, 3]\n",
       "Dim 2: [4, 3]\n",
       "Dim 3: [3, 4]\n",
       "NDTensors.BlockSparse{ComplexF64, Vector{ComplexF64}, 3}\n",
       " 7×7×7\n",
       "Block(1, 1, 1)\n",
       " [1:2, 1:4, 1:3]\n",
       "[:, :, 1] =\n",
       " 0.0 + 0.0im  0.0 + 0.0im  0.0 + 0.0im  0.0 + 0.0im\n",
       " 0.0 + 0.0im  0.0 + 0.0im  0.0 + 0.0im  0.0 + 0.0im\n",
       "\n",
       "[:, :, 2] =\n",
       " 0.0 + 0.0im  0.0 + 0.0im  0.0 + 0.0im  0.0 + 0.0im\n",
       " 0.0 + 0.0im  0.0 + 0.0im  0.0 + 0.0im  0.0 + 0.0im\n",
       "\n",
       "[:, :, 3] =\n",
       " 0.0 + 0.0im  0.0 + 0.0im  0.0 + 0.0im  0.0 + 0.0im\n",
       " 0.0 + 0.0im  0.0 + 0.0im  0.0 + 0.0im  0.0 + 0.0im\n",
       "\n",
       "Block(3, 2, 2)\n",
       " [5:7, 5:7, 4:7]\n",
       "[:, :, 1] =\n",
       " 0.0 + 0.0im  0.0 + 0.0im  0.0 + 0.0im\n",
       " 0.0 + 0.0im  0.0 + 0.0im  0.0 + 0.0im\n",
       " 0.0 + 0.0im  0.0 + 0.0im  0.0 + 0.0im\n",
       "\n",
       "[:, :, 2] =\n",
       " 0.0 + 0.0im  0.0 + 0.0im  0.0 + 0.0im\n",
       " 0.0 + 0.0im  0.0 + 0.0im  0.0 + 0.0im\n",
       " 0.0 + 0.0im  0.0 + 0.0im  0.0 + 0.0im\n",
       "\n",
       "[:, :, 3] =\n",
       " 0.0 + 0.0im  0.0 + 0.0im  0.0 + 0.0im\n",
       " 0.0 + 0.0im  0.0 + 0.0im  0.0 + 0.0im\n",
       " 0.0 + 0.0im  0.0 + 0.0im  0.0 + 0.0im\n",
       "\n",
       "[:, :, 4] =\n",
       " 0.0 + 0.0im  0.0 + 0.0im  0.0 + 0.0im\n",
       " 0.0 + 0.0im  0.0 + 0.0im  0.0 + 0.0im\n",
       " 0.0 + 0.0im  0.0 + 0.0im  0.0 + 0.0im"
      ]
     },
     "execution_count": 2,
     "metadata": {},
     "output_type": "execute_result"
    }
   ],
   "source": [
    "# N = 3\n",
    "# 1st dimension => 3 blocks of sizes 2, 2, 3\n",
    "# 2nd dimension => 2 blocks of sizes 4, 3\n",
    "# 3rd dimension => 2 blocks of sizes 3, 4\n",
    "bst_dims = ([2, 2, 3], [4, 3], [3, 4])\n",
    "# Multi-indices of two non-vanishing blocks\n",
    "bst_blocks = [(1, 1, 1), (3, 2, 2)]\n",
    "\n",
    "# Construct a block-sparse tensor with zero-initialized memory\n",
    "bst = BlockSparseTensor{ComplexF64}(bst_blocks, bst_dims...)"
   ]
  },
  {
   "cell_type": "markdown",
   "id": "f8bdde05-a6f5-4dde-9151-1f2210d0fe30",
   "metadata": {},
   "source": [
    "## Access to individual blocks"
   ]
  },
  {
   "cell_type": "code",
   "execution_count": 3,
   "id": "2ece9c4a-2451-4b43-8a18-9b4a52b3918a",
   "metadata": {},
   "outputs": [
    {
     "name": "stdout",
     "output_type": "stream",
     "text": [
      "bst = Dim 1: [2, 2, 3]\n",
      "Dim 2: [4, 3]\n",
      "Dim 3: [3, 4]\n",
      "NDTensors.BlockSparse{ComplexF64, Vector{ComplexF64}, 3}\n",
      " 7×7×7\n",
      "Block(1, 1, 1)\n",
      " [1:2, 1:4, 1:3]\n",
      "[:, :, 1] =\n",
      " 2.0 + 0.0im  2.0 + 0.0im  2.0 + 0.0im  2.0 + 0.0im\n",
      " 2.0 + 0.0im  2.0 + 0.0im  2.0 + 0.0im  2.0 + 0.0im\n",
      "\n",
      "[:, :, 2] =\n",
      " 2.0 + 0.0im  2.0 + 0.0im  2.0 + 0.0im  2.0 + 0.0im\n",
      " 2.0 + 0.0im  2.0 + 0.0im  2.0 + 0.0im  2.0 + 0.0im\n",
      "\n",
      "[:, :, 3] =\n",
      " 2.0 + 0.0im  2.0 + 0.0im  2.0 + 0.0im  2.0 + 0.0im\n",
      " 2.0 + 0.0im  2.0 + 0.0im  2.0 + 0.0im  2.0 + 0.0im\n",
      "\n",
      "Block(3, 2, 2)\n",
      " [5:7, 5:7, 4:7]\n",
      "[:, :, 1] =\n",
      " 3.0 + 0.0im  3.0 + 0.0im  3.0 + 0.0im\n",
      " 3.0 + 0.0im  3.0 + 0.0im  3.0 + 0.0im\n",
      " 3.0 + 0.0im  3.0 + 0.0im  3.0 + 0.0im\n",
      "\n",
      "[:, :, 2] =\n",
      " 3.0 + 0.0im  3.0 + 0.0im  3.0 + 0.0im\n",
      " 3.0 + 0.0im  3.0 + 0.0im  3.0 + 0.0im\n",
      " 3.0 + 0.0im  3.0 + 0.0im  3.0 + 0.0im\n",
      "\n",
      "[:, :, 3] =\n",
      " 3.0 + 0.0im  3.0 + 0.0im  3.0 + 0.0im\n",
      " 3.0 + 0.0im  3.0 + 0.0im  3.0 + 0.0im\n",
      " 3.0 + 0.0im  3.0 + 0.0im  3.0 + 0.0im\n",
      "\n",
      "[:, :, 4] =\n",
      " 3.0 + 0.0im  3.0 + 0.0im  3.0 + 0.0im\n",
      " 3.0 + 0.0im  3.0 + 0.0im  3.0 + 0.0im\n",
      " 3.0 + 0.0im  3.0 + 0.0im  3.0 + 0.0im\n"
     ]
    },
    {
     "data": {
      "text/plain": [
       "Dim 1: [2, 2, 3]\n",
       "Dim 2: [4, 3]\n",
       "Dim 3: [3, 4]\n",
       "NDTensors.BlockSparse{ComplexF64, Vector{ComplexF64}, 3}\n",
       " 7×7×7\n",
       "Block(1, 1, 1)\n",
       " [1:2, 1:4, 1:3]\n",
       "[:, :, 1] =\n",
       " 2.0 + 0.0im  2.0 + 0.0im  2.0 + 0.0im  2.0 + 0.0im\n",
       " 2.0 + 0.0im  2.0 + 0.0im  2.0 + 0.0im  2.0 + 0.0im\n",
       "\n",
       "[:, :, 2] =\n",
       " 2.0 + 0.0im  2.0 + 0.0im  2.0 + 0.0im  2.0 + 0.0im\n",
       " 2.0 + 0.0im  2.0 + 0.0im  2.0 + 0.0im  2.0 + 0.0im\n",
       "\n",
       "[:, :, 3] =\n",
       " 2.0 + 0.0im  2.0 + 0.0im  2.0 + 0.0im  2.0 + 0.0im\n",
       " 2.0 + 0.0im  2.0 + 0.0im  2.0 + 0.0im  2.0 + 0.0im\n",
       "\n",
       "Block(3, 2, 2)\n",
       " [5:7, 5:7, 4:7]\n",
       "[:, :, 1] =\n",
       " 3.0 + 0.0im  3.0 + 0.0im  3.0 + 0.0im\n",
       " 3.0 + 0.0im  3.0 + 0.0im  3.0 + 0.0im\n",
       " 3.0 + 0.0im  3.0 + 0.0im  3.0 + 0.0im\n",
       "\n",
       "[:, :, 2] =\n",
       " 3.0 + 0.0im  3.0 + 0.0im  3.0 + 0.0im\n",
       " 3.0 + 0.0im  3.0 + 0.0im  3.0 + 0.0im\n",
       " 3.0 + 0.0im  3.0 + 0.0im  3.0 + 0.0im\n",
       "\n",
       "[:, :, 3] =\n",
       " 3.0 + 0.0im  3.0 + 0.0im  3.0 + 0.0im\n",
       " 3.0 + 0.0im  3.0 + 0.0im  3.0 + 0.0im\n",
       " 3.0 + 0.0im  3.0 + 0.0im  3.0 + 0.0im\n",
       "\n",
       "[:, :, 4] =\n",
       " 3.0 + 0.0im  3.0 + 0.0im  3.0 + 0.0im\n",
       " 3.0 + 0.0im  3.0 + 0.0im  3.0 + 0.0im\n",
       " 3.0 + 0.0im  3.0 + 0.0im  3.0 + 0.0im"
      ]
     },
     "execution_count": 3,
     "metadata": {},
     "output_type": "execute_result"
    }
   ],
   "source": [
    "bst[Block(1, 1, 1)] = 2.0;\n",
    "bst[Block(3, 2, 2)] = 3.0;\n",
    "\n",
    "@show bst"
   ]
  },
  {
   "cell_type": "markdown",
   "id": "1dc6cc69-65a0-41f4-a7df-f21cd44e3df8",
   "metadata": {},
   "source": [
    "## Contraction of a chain tensor network ($n = 3$)"
   ]
  },
  {
   "cell_type": "code",
   "execution_count": 4,
   "id": "5b048154-d008-4612-863e-2190c4d89110",
   "metadata": {},
   "outputs": [],
   "source": [
    "# Propagators: 2 dimension, 3 square blocks per each dimension\n",
    "P_block_dims = ([2, 3, 4], [2, 3, 4])\n",
    "P_dims = sum.(P_block_dims)\n",
    "# The only non-zero blocks are diagonal\n",
    "P_blocks = [(i, i) for i in 1:length(first(P_block_dims))]\n",
    "\n",
    "P = [BlockSparseTensor{ComplexF64}(P_blocks, P_block_dims...) for i in 1:5];"
   ]
  },
  {
   "cell_type": "code",
   "execution_count": 5,
   "id": "17b987e2-ac1d-4378-b9c8-9d72b5b6dbe3",
   "metadata": {},
   "outputs": [],
   "source": [
    "# Test contraction of propagators alone\n",
    "\n",
    "using Random: MersenneTwister, rand\n",
    "rng = MersenneTwister(12345678)\n",
    "\n",
    "for i in 1:5\n",
    "    for b in 1:length(first(P_block_dims))\n",
    "        P[i][Block(b, b)] = rand(rng, P_block_dims[1][b], P_block_dims[2][b])\n",
    "    end\n",
    "end\n",
    "\n",
    "# Labels are attached to propagators as follows:\n",
    "# P5_{1,2} P4_{2,3} P3_{3,4} P2_{4,5} P1_{5,6}\n",
    "\n",
    "# Test contraction order: (P5 * (P4 * P3)) * (P2 * P1)\n",
    "R43 = contract(P[4], (2, 3), P[3], (3, 4), (2, 4));\n",
    "R543 = contract(P[5], (1, 2), R43, (2, 4), (1, 4));\n",
    "R21 = contract(P[2], (4, 5), P[1], (5, 6), (4, 6));\n",
    "R = contract(R543, (1, 4), R21, (4, 6), (1, 6))\n",
    "\n",
    "for b in 1:length(first(P_block_dims))\n",
    "    bl = Block(b, b)\n",
    "    R_mat = convert(Matrix{ComplexF64}, R[bl])\n",
    "    R_mat_ref = convert(Matrix{ComplexF64}, P[5][bl]) *\n",
    "                convert(Matrix{ComplexF64}, P[4][bl]) *\n",
    "                convert(Matrix{ComplexF64}, P[3][bl]) *\n",
    "                convert(Matrix{ComplexF64}, P[2][bl]) *\n",
    "                convert(Matrix{ComplexF64}, P[1][bl])\n",
    "    @assert isapprox(R_mat, R_mat_ref)\n",
    "end"
   ]
  },
  {
   "cell_type": "code",
   "execution_count": 6,
   "id": "7d12083c-0430-4532-b2dd-807f7db6822b",
   "metadata": {},
   "outputs": [
    {
     "data": {
      "text/plain": [
       "Dim 1: [1, 1, 1, 1, 1, 1]\n",
       "Dim 2: [1, 1, 1, 1, 1, 1]\n",
       "NDTensors.BlockSparse{ComplexF64, Vector{ComplexF64}, 2}\n",
       " 6×6\n",
       "Block(1, 1)\n",
       " [1:1, 1:1]\n",
       " 0.0 + 0.0im\n",
       "\n",
       "Block(2, 2)\n",
       " [2:2, 2:2]\n",
       " 0.0 + 0.0im\n",
       "\n",
       "Block(3, 3)\n",
       " [3:3, 3:3]\n",
       " 0.0 + 0.0im\n",
       "\n",
       "Block(4, 4)\n",
       " [4:4, 4:4]\n",
       " 0.0 + 0.0im\n",
       "\n",
       "Block(5, 5)\n",
       " [5:5, 5:5]\n",
       " 0.0 + 0.0im\n",
       "\n",
       "Block(6, 6)\n",
       " [6:6, 6:6]\n",
       " 0.0 + 0.0im"
      ]
     },
     "execution_count": 6,
     "metadata": {},
     "output_type": "execute_result"
    }
   ],
   "source": [
    "# Interaction lines\n",
    "N_int = 6 # Number of pair interactions\n",
    "Δ = BlockSparseTensor{ComplexF64}([(b, b) for b in 1:N_int], ones(Int, N_int), ones(Int, N_int))"
   ]
  },
  {
   "cell_type": "code",
   "execution_count": 7,
   "id": "d0a560d5-c7e2-4d47-aa8e-1d85b44f2b1c",
   "metadata": {},
   "outputs": [],
   "source": [
    "# Interaction vertices: 3 dimensions\n",
    "# There is always only one block along the 1st dimenstion (interaction index)\n",
    "O_block_dims = ([N_int], P_block_dims...)\n",
    "O_blocks = sort([(1, 1, 2),\n",
    "                 (1, 2, 1),\n",
    "                 (1, 2, 3),\n",
    "                 (1, 3, 2),\n",
    "                 (1, 1, 3),\n",
    "                 (1, 3, 1)])\n",
    "\n",
    "O = BlockSparseTensor{ComplexF64}(O_blocks, O_block_dims...);"
   ]
  },
  {
   "cell_type": "code",
   "execution_count": 8,
   "id": "ae6709ab-ebc9-4540-8bad-a9ffd59e7878",
   "metadata": {},
   "outputs": [
    {
     "name": "stdout",
     "output_type": "stream",
     "text": [
      "contract_inds(inds(T1), labels1, inds(T2), labels2, labelsR) = ([3, 2, 3], [4, 5, 2], [6, 2, 7], [10, 2, 3], [8, 2, 2], [7, 4, 1])\n"
     ]
    }
   ],
   "source": [
    "using ITensors.NDTensors: inds,\n",
    "                          nzblocks,\n",
    "                          contract_inds,\n",
    "                          contract_labels,\n",
    "                          contract_blocks,\n",
    "                          are_blocks_contracted,\n",
    "                          ValLength\n",
    "\n",
    "\"\"\"\n",
    "Cost of a single tensor pair contraction.\n",
    "\"\"\"\n",
    "function contraction_cost(T1::BlockSparseTensor,\n",
    "                          labels1,\n",
    "                          T2::BlockSparseTensor,\n",
    "                          labels2,\n",
    "                          labelsR)\n",
    "    labels1_to_labels2, labels1_to_labelsR, labels2_to_labelsR = contract_labels(labels1, labels2, labelsR)\n",
    "    blocksR = Block[]\n",
    "    cost = 0\n",
    "    for block1 in nzblocks(T1)\n",
    "        for block2 in nzblocks(T2)\n",
    "            if are_blocks_contracted(block1, block2, labels1_to_labels2)\n",
    "                cost += length(T1[block1]) * prod(size(T2[block2], a2) for (a2, aR) in enumerate(labels2_to_labelsR) if aR != 0)\n",
    "                push!(blocksR, contract_blocks(block1, labels1_to_labelsR, block2, labels2_to_labelsR, ValLength(labelsR)))\n",
    "            end\n",
    "        end\n",
    "    end\n",
    "    return cost, blocksR\n",
    "end\n",
    "\n",
    "# Test\n",
    "T1 = BlockSparseTensor{ComplexF64}([(1, 1, 2, 3, 1),\n",
    "                                    (2, 2, 3, 2, 1),\n",
    "                                    (3, 2, 1, 2, 1)],\n",
    "                                    [2, 3, 4], [3, 2, 3], [4, 5, 2], [5, 1, 3], [6, 2, 7]);\n",
    "T2 = BlockSparseTensor{ComplexF64}([(1, 1, 1, 2, 2),\n",
    "                                    (2, 3, 1, 2, 1),\n",
    "                                    (1, 2, 3, 1, 1)],\n",
    "                                    [10, 2, 3], [5, 1, 3], [2, 3, 4], [7, 4, 1], [8, 2, 2]);\n",
    "\n",
    "labels1 = (1, 2, 3, 4, 5)\n",
    "labels2 = (6, 4, 1, 9, 10)\n",
    "labelsR = (2, 3, 5, 6, 10, 9)\n",
    "\n",
    "R = contract(T1, labels1, T2, labels2, labelsR)\n",
    "# Block structure of the contraction result\n",
    "@show contract_inds(inds(T1), labels1, inds(T2), labels2, labelsR)\n",
    "\n",
    "cost, blocksR = contraction_cost(T1, labels1, T2, labels2, labelsR)\n",
    "\n",
    "@assert cost == (2*3*5*3*6)*(2*4*8) + # Block(1, 1, 2, 3, 1) ∘ Block(2, 3, 1, 2, 1)\n",
    "                (4*2*4*1*6)*(10*7*8)  # Block(3, 2, 1, 2, 1) ∘ Block(1, 2, 3, 1, 1)\n",
    "@assert blocksR == nzblocks(R)"
   ]
  },
  {
   "cell_type": "code",
   "execution_count": 10,
   "id": "753bbc55-c70f-4465-a14d-38f1257acda5",
   "metadata": {},
   "outputs": [
    {
     "data": {
      "text/plain": [
       "(972, Block[Block(1, 1, 2), Block(1, 1, 3), Block(1, 2, 1), Block(1, 2, 3), Block(1, 3, 1), Block(1, 3, 2)])"
      ]
     },
     "execution_count": 10,
     "metadata": {},
     "output_type": "execute_result"
    }
   ],
   "source": [
    "contraction_cost(O, (1, 2, 3), P[5], (4, 3), (1, 2, 4))"
   ]
  },
  {
   "cell_type": "code",
   "execution_count": 11,
   "id": "f590f6f4-8433-4d18-b32b-cc9c40f00bcb",
   "metadata": {},
   "outputs": [],
   "source": [
    "# TODO: List all edges of the chain diagram\n",
    "# TODO: Generate all contraction paths\n",
    "# TODO: define cost() for a contraction path"
   ]
  }
 ],
 "metadata": {
  "kernelspec": {
   "display_name": "Julia 1.9.4",
   "language": "julia",
   "name": "julia-1.9"
  },
  "language_info": {
   "file_extension": ".jl",
   "mimetype": "application/julia",
   "name": "julia",
   "version": "1.9.4"
  }
 },
 "nbformat": 4,
 "nbformat_minor": 5
}

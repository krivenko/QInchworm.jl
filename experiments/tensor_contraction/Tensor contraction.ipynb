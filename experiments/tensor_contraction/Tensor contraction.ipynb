{
 "cells": [
  {
   "cell_type": "markdown",
   "id": "242ed4b2-c7e5-4821-97a8-a17f943f5659",
   "metadata": {},
   "source": [
    "# Fast tensor contraction"
   ]
  },
  {
   "cell_type": "markdown",
   "id": "99fb05c8-13f4-496e-94c0-5ac49d2af207",
   "metadata": {},
   "source": [
    "## Block-sparse tensor construction"
   ]
  },
  {
   "cell_type": "code",
   "execution_count": 1,
   "id": "1979d6db-7703-481b-9b01-6d88ef327e48",
   "metadata": {},
   "outputs": [],
   "source": [
    "using ITensors: BlockSparseTensor, Block, contract"
   ]
  },
  {
   "cell_type": "code",
   "execution_count": 2,
   "id": "d89f40c5-2280-494c-91fd-f018dfda1dac",
   "metadata": {},
   "outputs": [
    {
     "data": {
      "text/plain": [
       "Dim 1: [2, 2, 3]\n",
       "Dim 2: [4, 3]\n",
       "Dim 3: [3, 4]\n",
       "NDTensors.BlockSparse{ComplexF64, Vector{ComplexF64}, 3}\n",
       " 7×7×7\n",
       "Block(1, 1, 1)\n",
       " [1:2, 1:4, 1:3]\n",
       "[:, :, 1] =\n",
       " 0.0 + 0.0im  0.0 + 0.0im  0.0 + 0.0im  0.0 + 0.0im\n",
       " 0.0 + 0.0im  0.0 + 0.0im  0.0 + 0.0im  0.0 + 0.0im\n",
       "\n",
       "[:, :, 2] =\n",
       " 0.0 + 0.0im  0.0 + 0.0im  0.0 + 0.0im  0.0 + 0.0im\n",
       " 0.0 + 0.0im  0.0 + 0.0im  0.0 + 0.0im  0.0 + 0.0im\n",
       "\n",
       "[:, :, 3] =\n",
       " 0.0 + 0.0im  0.0 + 0.0im  0.0 + 0.0im  0.0 + 0.0im\n",
       " 0.0 + 0.0im  0.0 + 0.0im  0.0 + 0.0im  0.0 + 0.0im\n",
       "\n",
       "Block(3, 2, 2)\n",
       " [5:7, 5:7, 4:7]\n",
       "[:, :, 1] =\n",
       " 0.0 + 0.0im  0.0 + 0.0im  0.0 + 0.0im\n",
       " 0.0 + 0.0im  0.0 + 0.0im  0.0 + 0.0im\n",
       " 0.0 + 0.0im  0.0 + 0.0im  0.0 + 0.0im\n",
       "\n",
       "[:, :, 2] =\n",
       " 0.0 + 0.0im  0.0 + 0.0im  0.0 + 0.0im\n",
       " 0.0 + 0.0im  0.0 + 0.0im  0.0 + 0.0im\n",
       " 0.0 + 0.0im  0.0 + 0.0im  0.0 + 0.0im\n",
       "\n",
       "[:, :, 3] =\n",
       " 0.0 + 0.0im  0.0 + 0.0im  0.0 + 0.0im\n",
       " 0.0 + 0.0im  0.0 + 0.0im  0.0 + 0.0im\n",
       " 0.0 + 0.0im  0.0 + 0.0im  0.0 + 0.0im\n",
       "\n",
       "[:, :, 4] =\n",
       " 0.0 + 0.0im  0.0 + 0.0im  0.0 + 0.0im\n",
       " 0.0 + 0.0im  0.0 + 0.0im  0.0 + 0.0im\n",
       " 0.0 + 0.0im  0.0 + 0.0im  0.0 + 0.0im"
      ]
     },
     "execution_count": 2,
     "metadata": {},
     "output_type": "execute_result"
    }
   ],
   "source": [
    "# N = 3\n",
    "# 1st dimension => 3 blocks of sizes 2, 2, 3\n",
    "# 2nd dimension => 2 blocks of sizes 4, 3\n",
    "# 3rd dimension => 2 blocks of sizes 3, 4\n",
    "bst_dims = ([2, 2, 3], [4, 3], [3, 4])\n",
    "# Multi-indices of two non-vanishing blocks\n",
    "bst_blocks = [(1, 1, 1), (3, 2, 2)]\n",
    "\n",
    "# Construct a block-sparse tensor with zero-initialized memory\n",
    "bst = BlockSparseTensor{ComplexF64}(bst_blocks, bst_dims...)"
   ]
  },
  {
   "cell_type": "markdown",
   "id": "f8bdde05-a6f5-4dde-9151-1f2210d0fe30",
   "metadata": {},
   "source": [
    "## Access to individual blocks"
   ]
  },
  {
   "cell_type": "code",
   "execution_count": 3,
   "id": "2ece9c4a-2451-4b43-8a18-9b4a52b3918a",
   "metadata": {},
   "outputs": [
    {
     "name": "stdout",
     "output_type": "stream",
     "text": [
      "bst = Dim 1: [2, 2, 3]\n",
      "Dim 2: [4, 3]\n",
      "Dim 3: [3, 4]\n",
      "NDTensors.BlockSparse{ComplexF64, Vector{ComplexF64}, 3}\n",
      " 7×7×7\n",
      "Block(1, 1, 1)\n",
      " [1:2, 1:4, 1:3]\n",
      "[:, :, 1] =\n",
      " 2.0 + 0.0im  2.0 + 0.0im  2.0 + 0.0im  2.0 + 0.0im\n",
      " 2.0 + 0.0im  2.0 + 0.0im  2.0 + 0.0im  2.0 + 0.0im\n",
      "\n",
      "[:, :, 2] =\n",
      " 2.0 + 0.0im  2.0 + 0.0im  2.0 + 0.0im  2.0 + 0.0im\n",
      " 2.0 + 0.0im  2.0 + 0.0im  2.0 + 0.0im  2.0 + 0.0im\n",
      "\n",
      "[:, :, 3] =\n",
      " 2.0 + 0.0im  2.0 + 0.0im  2.0 + 0.0im  2.0 + 0.0im\n",
      " 2.0 + 0.0im  2.0 + 0.0im  2.0 + 0.0im  2.0 + 0.0im\n",
      "\n",
      "Block(3, 2, 2)\n",
      " [5:7, 5:7, 4:7]\n",
      "[:, :, 1] =\n",
      " 3.0 + 0.0im  3.0 + 0.0im  3.0 + 0.0im\n",
      " 3.0 + 0.0im  3.0 + 0.0im  3.0 + 0.0im\n",
      " 3.0 + 0.0im  3.0 + 0.0im  3.0 + 0.0im\n",
      "\n",
      "[:, :, 2] =\n",
      " 3.0 + 0.0im  3.0 + 0.0im  3.0 + 0.0im\n",
      " 3.0 + 0.0im  3.0 + 0.0im  3.0 + 0.0im\n",
      " 3.0 + 0.0im  3.0 + 0.0im  3.0 + 0.0im\n",
      "\n",
      "[:, :, 3] =\n",
      " 3.0 + 0.0im  3.0 + 0.0im  3.0 + 0.0im\n",
      " 3.0 + 0.0im  3.0 + 0.0im  3.0 + 0.0im\n",
      " 3.0 + 0.0im  3.0 + 0.0im  3.0 + 0.0im\n",
      "\n",
      "[:, :, 4] =\n",
      " 3.0 + 0.0im  3.0 + 0.0im  3.0 + 0.0im\n",
      " 3.0 + 0.0im  3.0 + 0.0im  3.0 + 0.0im\n",
      " 3.0 + 0.0im  3.0 + 0.0im  3.0 + 0.0im\n"
     ]
    },
    {
     "data": {
      "text/plain": [
       "Dim 1: [2, 2, 3]\n",
       "Dim 2: [4, 3]\n",
       "Dim 3: [3, 4]\n",
       "NDTensors.BlockSparse{ComplexF64, Vector{ComplexF64}, 3}\n",
       " 7×7×7\n",
       "Block(1, 1, 1)\n",
       " [1:2, 1:4, 1:3]\n",
       "[:, :, 1] =\n",
       " 2.0 + 0.0im  2.0 + 0.0im  2.0 + 0.0im  2.0 + 0.0im\n",
       " 2.0 + 0.0im  2.0 + 0.0im  2.0 + 0.0im  2.0 + 0.0im\n",
       "\n",
       "[:, :, 2] =\n",
       " 2.0 + 0.0im  2.0 + 0.0im  2.0 + 0.0im  2.0 + 0.0im\n",
       " 2.0 + 0.0im  2.0 + 0.0im  2.0 + 0.0im  2.0 + 0.0im\n",
       "\n",
       "[:, :, 3] =\n",
       " 2.0 + 0.0im  2.0 + 0.0im  2.0 + 0.0im  2.0 + 0.0im\n",
       " 2.0 + 0.0im  2.0 + 0.0im  2.0 + 0.0im  2.0 + 0.0im\n",
       "\n",
       "Block(3, 2, 2)\n",
       " [5:7, 5:7, 4:7]\n",
       "[:, :, 1] =\n",
       " 3.0 + 0.0im  3.0 + 0.0im  3.0 + 0.0im\n",
       " 3.0 + 0.0im  3.0 + 0.0im  3.0 + 0.0im\n",
       " 3.0 + 0.0im  3.0 + 0.0im  3.0 + 0.0im\n",
       "\n",
       "[:, :, 2] =\n",
       " 3.0 + 0.0im  3.0 + 0.0im  3.0 + 0.0im\n",
       " 3.0 + 0.0im  3.0 + 0.0im  3.0 + 0.0im\n",
       " 3.0 + 0.0im  3.0 + 0.0im  3.0 + 0.0im\n",
       "\n",
       "[:, :, 3] =\n",
       " 3.0 + 0.0im  3.0 + 0.0im  3.0 + 0.0im\n",
       " 3.0 + 0.0im  3.0 + 0.0im  3.0 + 0.0im\n",
       " 3.0 + 0.0im  3.0 + 0.0im  3.0 + 0.0im\n",
       "\n",
       "[:, :, 4] =\n",
       " 3.0 + 0.0im  3.0 + 0.0im  3.0 + 0.0im\n",
       " 3.0 + 0.0im  3.0 + 0.0im  3.0 + 0.0im\n",
       " 3.0 + 0.0im  3.0 + 0.0im  3.0 + 0.0im"
      ]
     },
     "execution_count": 3,
     "metadata": {},
     "output_type": "execute_result"
    }
   ],
   "source": [
    "bst[Block(1, 1, 1)] = 2.0;\n",
    "bst[Block(3, 2, 2)] = 3.0;\n",
    "\n",
    "@show bst"
   ]
  },
  {
   "cell_type": "markdown",
   "id": "1dc6cc69-65a0-41f4-a7df-f21cd44e3df8",
   "metadata": {},
   "source": [
    "## Contraction of a chain tensor network ($n = 3$)"
   ]
  },
  {
   "cell_type": "code",
   "execution_count": 4,
   "id": "5b048154-d008-4612-863e-2190c4d89110",
   "metadata": {},
   "outputs": [],
   "source": [
    "# Propagators: 2 dimension, 3 square blocks per each dimension\n",
    "P_block_dims = ([2, 3, 4], [2, 3, 4])\n",
    "P_dims = sum.(P_block_dims)\n",
    "# The only non-zero blocks are diagonal\n",
    "P_blocks = [(i, i) for i in 1:length(first(P_block_dims))]\n",
    "\n",
    "P = [BlockSparseTensor{ComplexF64}(P_blocks, P_block_dims...) for i in 1:5];"
   ]
  },
  {
   "cell_type": "code",
   "execution_count": 5,
   "id": "17b987e2-ac1d-4378-b9c8-9d72b5b6dbe3",
   "metadata": {},
   "outputs": [],
   "source": [
    "# Test contraction of propagators alone\n",
    "\n",
    "using Random: MersenneTwister, rand\n",
    "rng = MersenneTwister(12345678)\n",
    "\n",
    "for i in 1:5\n",
    "    for b in 1:length(first(P_block_dims))\n",
    "        P[i][Block(b, b)] = rand(rng, P_block_dims[1][b], P_block_dims[2][b])\n",
    "    end\n",
    "end\n",
    "\n",
    "# Labels are attached to propagators as follows:\n",
    "# P5_{1,2} P4_{2,3} P3_{3,4} P2_{4,5} P1_{5,6}\n",
    "\n",
    "# Test contraction order: (P5 * (P4 * P3)) * (P2 * P1)\n",
    "R43 = contract(P[4], (2, 3), P[3], (3, 4), (2, 4));\n",
    "R543 = contract(P[5], (1, 2), R43, (2, 4), (1, 4));\n",
    "R21 = contract(P[2], (4, 5), P[1], (5, 6), (4, 6));\n",
    "R = contract(R543, (1, 4), R21, (4, 6), (1, 6))\n",
    "\n",
    "for b in 1:length(first(P_block_dims))\n",
    "    bl = Block(b, b)\n",
    "    R_mat = convert(Matrix{ComplexF64}, R[bl])\n",
    "    R_mat_ref = convert(Matrix{ComplexF64}, P[5][bl]) *\n",
    "                convert(Matrix{ComplexF64}, P[4][bl]) *\n",
    "                convert(Matrix{ComplexF64}, P[3][bl]) *\n",
    "                convert(Matrix{ComplexF64}, P[2][bl]) *\n",
    "                convert(Matrix{ComplexF64}, P[1][bl])\n",
    "    @assert isapprox(R_mat, R_mat_ref)\n",
    "end"
   ]
  },
  {
   "cell_type": "code",
   "execution_count": 63,
   "id": "d0a560d5-c7e2-4d47-aa8e-1d85b44f2b1c",
   "metadata": {},
   "outputs": [],
   "source": [
    "# Interaction lines\n",
    "N_int = 6 # Number of pair interactions\n",
    "Δ = BlockSparseTensor{ComplexF64}([(1,)], [N_int])\n",
    "\n",
    "# Interaction vertices: 3 dimensions\n",
    "# There is always only one block along the 1st dimenstion (interaction index)\n",
    "O_block_dims = ([N_int], P_block_dims...)\n",
    "O_blocks = sort([(1, 1, 2),\n",
    "                 (1, 2, 1),\n",
    "                 (1, 2, 3),\n",
    "                 (1, 3, 2),\n",
    "                 (1, 1, 3),\n",
    "                 (1, 3, 1)])\n",
    "\n",
    "O = BlockSparseTensor{ComplexF64}(O_blocks, O_block_dims...);"
   ]
  },
  {
   "cell_type": "code",
   "execution_count": 54,
   "id": "ae6709ab-ebc9-4540-8bad-a9ffd59e7878",
   "metadata": {},
   "outputs": [
    {
     "data": {
      "text/plain": [
       "972"
      ]
     },
     "execution_count": 54,
     "metadata": {},
     "output_type": "execute_result"
    }
   ],
   "source": [
    "\"\"\"\n",
    "Cost of a single edge contraction.\n",
    "\"\"\"\n",
    "function edge_cost(T1::BlockSparseTensor, axis1::Int, T2::BlockSparseTensor, axis2)\n",
    "    cost = 0\n",
    "    # TODO: Optimize assuming that T1 and T2 are constructed from sorted lists of Blocks\n",
    "    for bl1 in nzblocks(T1)\n",
    "        for bl2 in nzblocks(T2)\n",
    "            if bl1[axis1] == bl2[axis2]\n",
    "                @assert size(T1[bl1], axis1) == size(T2[bl2], axis2)\n",
    "                cost += length(T1[bl1]) * \n",
    "                        prod(d -> (d == axis2) ? 1 : size(T2[bl2], d), 1:length(bl2))\n",
    "            end\n",
    "        end\n",
    "    end\n",
    "    return cost\n",
    "end\n",
    "\n",
    "edge_cost(O, 3, P[5], 1)"
   ]
  },
  {
   "cell_type": "code",
   "execution_count": 55,
   "id": "753bbc55-c70f-4465-a14d-38f1257acda5",
   "metadata": {},
   "outputs": [],
   "source": [
    "# TODO: List all edges of the chain diagram\n",
    "# TODO: Generate all contraction paths\n",
    "# TODO: define cost() for a contraction path"
   ]
  }
 ],
 "metadata": {
  "kernelspec": {
   "display_name": "Julia 1.9.4",
   "language": "julia",
   "name": "julia-1.9"
  },
  "language_info": {
   "file_extension": ".jl",
   "mimetype": "application/julia",
   "name": "julia",
   "version": "1.9.4"
  }
 },
 "nbformat": 4,
 "nbformat_minor": 5
}

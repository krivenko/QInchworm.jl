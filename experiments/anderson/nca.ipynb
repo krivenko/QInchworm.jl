{
 "cells": [
  {
   "cell_type": "code",
   "execution_count": 1,
   "id": "gross-planner",
   "metadata": {},
   "outputs": [
    {
     "name": "stderr",
     "output_type": "stream",
     "text": [
      "\u001b[32m\u001b[1m  Activating\u001b[22m\u001b[39m project at `~/Physics/QInchworm/QInchworm.git/experiments/anderson`\n"
     ]
    }
   ],
   "source": [
    "using Pkg\n",
    "Pkg.activate(\".\")\n",
    "# Pkg.instantiate()"
   ]
  },
  {
   "cell_type": "code",
   "execution_count": 2,
   "id": "contemporary-essence",
   "metadata": {},
   "outputs": [],
   "source": [
    "using LinearAlgebra, Printf\n",
    "using PyPlot\n",
    "using Keldysh"
   ]
  },
  {
   "cell_type": "code",
   "execution_count": 3,
   "id": "ruled-tuesday",
   "metadata": {},
   "outputs": [],
   "source": [
    "@enum SpinEnum spin_up = UInt8(1) spin_down=UInt8(2)\n",
    "Base.to_index(A, sp::SpinEnum) = Int(sp)\n",
    "flip(sp::SpinEnum) = sp == spin_up ? spin_down : spin_up\n",
    "\n",
    "# type representing state of anderson impurity\n",
    "# occupation of up/down stored in first two bits\n",
    "struct FockState\n",
    "    state::UInt8\n",
    "    function FockState(s)\n",
    "        @assert s < 4\n",
    "        new(s)\n",
    "    end\n",
    "end\n",
    "\n",
    "# check whether ith spin is occupied\n",
    "# note sp ∈ [1, 2] so don't need to do (1 << (sp - 1))\n",
    "Base.getindex(st::FockState, sp::SpinEnum) = (st.state & UInt8(sp)) > 0\n",
    "\n",
    "# flip occupation of ith spin\n",
    "# note sp ∈ [1, 2] so don't need to do (sp << (i - 1))\n",
    "flip(st::FockState, sp::SpinEnum) = FockState(st.state ⊻ UInt8(sp))\n",
    "\n",
    "# convert internal state to index\n",
    "Base.to_index(st::FockState) = Int(st.state + 1)"
   ]
  },
  {
   "cell_type": "code",
   "execution_count": 4,
   "id": "blind-activity",
   "metadata": {},
   "outputs": [
    {
     "data": {
      "text/plain": [
       "NCAData"
      ]
     },
     "execution_count": 4,
     "metadata": {},
     "output_type": "execute_result"
    }
   ],
   "source": [
    "struct NCAParams\n",
    "  dyson_rtol::Float64\n",
    "  dyson_atol::Float64\n",
    "  dyson_max_iter::Int\n",
    "  max_order::Int\n",
    "  function NCAParams(dyson_rtol, dyson_atol, dyson_max_iter, max_order)\n",
    "    @assert 1 <= max_order <= 2\n",
    "    new(dyson_rtol, dyson_atol, dyson_max_iter, max_order)\n",
    "  end\n",
    "end\n",
    "NCAParams(; dyson_rtol = 1e-6, dyson_atol = 1e-10, dyson_max_iter = 100, max_order = 1) = NCAParams(dyson_rtol, dyson_atol, dyson_max_iter, max_order)\n",
    "\n",
    "struct NCAData{T <: AbstractTimeGF, U <: AbstractTimeGrid}\n",
    "  P0::Array{T,1} # bare propagator\n",
    "  Δ::Array{T, 1} # hybridization function\n",
    "\n",
    "  P::Array{T,1} # dressed propagator\n",
    "  Σ::Array{T,1} # self-energy\n",
    "  ΣxP::Array{T,1} # self-energy convolved with propagator\n",
    "  G::Array{T,1} # green's function\n",
    "\n",
    "  grid::U # time grid\n",
    "  states::NTuple{4, FockState}\n",
    "  spins::Tuple{SpinEnum, SpinEnum}\n",
    "end\n",
    "\n",
    "function NCAData(P0, Δ)\n",
    "  states = ntuple(i -> FockState(i-1), 4)\n",
    "  spins = instances(SpinEnum)\n",
    "\n",
    "  statesize = length(states)\n",
    "  indexsize = length(spins)\n",
    "\n",
    "  @assert length(P0) == statesize\n",
    "  @assert length(Δ) == indexsize\n",
    "\n",
    "  grid = first(P0).grid\n",
    "\n",
    "  X = P0[1]\n",
    "  P = [zero(X) for _ in 1:statesize]\n",
    "  Σ = [zero(X) for _ in 1:statesize]\n",
    "  ΣxP = [zero(X) for _ in 1:statesize]\n",
    "  G = [zero(X) for _ in 1:indexsize]\n",
    "\n",
    "  NCAData(P0, Δ, P, Σ, ΣxP, G, grid, states, spins)\n",
    "end"
   ]
  },
  {
   "cell_type": "code",
   "execution_count": 5,
   "id": "innovative-stamp",
   "metadata": {},
   "outputs": [
    {
     "data": {
      "text/plain": [
       "Σnca (generic function with 1 method)"
      ]
     },
     "execution_count": 5,
     "metadata": {},
     "output_type": "execute_result"
    }
   ],
   "source": [
    "function Σnca(data::NCAData, t1::TimeGridPoint, t2::TimeGridPoint, st_sigma::FockState)\n",
    "  sum(data.spins) do sp\n",
    "    st_prop = flip(st_sigma, sp)\n",
    "    1.0im * data.P[st_prop][t1, t2] * (st_sigma[sp] ? data.Δ[sp][t1, t2] : -data.Δ[sp][t2, t1, false])\n",
    "  end\n",
    "end"
   ]
  },
  {
   "cell_type": "code",
   "execution_count": 6,
   "id": "assigned-cartridge",
   "metadata": {},
   "outputs": [
    {
     "data": {
      "text/plain": [
       "nca! (generic function with 1 method)"
      ]
     },
     "execution_count": 6,
     "metadata": {},
     "output_type": "execute_result"
    }
   ],
   "source": [
    "function dyson!(data::NCAData, t1::TimeGridPoint, t2::TimeGridPoint, params::NCAParams)\n",
    "  @assert t1.cidx >= t2.cidx\n",
    "\n",
    "  p_t1t2_cur = zeros(ComplexF64, length(data.states))\n",
    "  p_t1t2_next = zeros(ComplexF64, length(data.states))\n",
    "\n",
    "  for st in data.states\n",
    "    p_t1t2_cur[st] = data.P0[st][t1,t2]\n",
    "    data.P[st][t1,t2] = data.P0[st][t1,t2] # initial guess\n",
    "  end\n",
    "\n",
    "  ↻ = (A, B) -> integrate(t -> @inbounds(A[t1, t] * B[t, t2]), data.grid, t1, t2)\n",
    "\n",
    "  done = false\n",
    "  iter = 1\n",
    "  diff = 0.0\n",
    "  while iter <= params.dyson_max_iter && !done\n",
    "\n",
    "    for st in data.states\n",
    "      p_t1t2_next[st] = 0.0\n",
    "\n",
    "      data.Σ[st][t1, t2] = 0.0\n",
    "      params.max_order > 0 && (data.Σ[st][t1, t2] += Σnca(data, t1, t2, st))\n",
    "      params.max_order > 1 && (data.Σ[st][t1, t2] += Σoca(data, t1, t2, st))\n",
    "\n",
    "      # p = p₀ + p₀ ↻ Σ ↻ p\n",
    "      data.ΣxP[st][t1, t2] = data.Σ[st] ↻ data.P[st]\n",
    "      p_t1t2_next[st] += data.P0[st] ↻ data.ΣxP[st]\n",
    "\n",
    "      p_t1t2_next[st] += data.P0[st][t1, t2]\n",
    "    end\n",
    "\n",
    "    diff = norm(p_t1t2_cur - p_t1t2_next)\n",
    "    done = diff < max(params.dyson_atol, params.dyson_rtol * norm(p_t1t2_cur))\n",
    "    for st in data.states\n",
    "      data.P[st][t1,t2] = p_t1t2_next[st]\n",
    "    end\n",
    "    p_t1t2_cur .= p_t1t2_next\n",
    "    iter += 1\n",
    "  end\n",
    "end\n",
    "\n",
    "function nca!(data::NCAData, params::NCAParams)\n",
    "  N = length(data.grid)\n",
    "  for d in 0:(N-1) # solve diagonal by diagonal\n",
    "#     println(\"diagonal $(d+1)/$N\")\n",
    "    for j in 1:(N-d)\n",
    "      i = j + d\n",
    "      t1 = data.grid[i]\n",
    "      t2 = data.grid[j]\n",
    "      dyson!(data, t1, t2, params)\n",
    "    end\n",
    "  end\n",
    "\n",
    "  return data\n",
    "end"
   ]
  },
  {
   "cell_type": "code",
   "execution_count": 7,
   "id": "given-newport",
   "metadata": {},
   "outputs": [
    {
     "data": {
      "text/plain": [
       "inch! (generic function with 2 methods)"
      ]
     },
     "execution_count": 7,
     "metadata": {},
     "output_type": "execute_result"
    }
   ],
   "source": [
    "struct SplitPropagator\n",
    "  P::GenericTimeGF{ComplexF64,true}\n",
    "  P0::GenericTimeGF{ComplexF64,true}\n",
    "  t_split::TimeGridPoint\n",
    "end\n",
    "\n",
    "function Base.getindex(P::SplitPropagator, t1::TimeGridPoint, t2::TimeGridPoint)\n",
    "  @assert t1.cidx >= t2.cidx\n",
    "  t_split = P.t_split\n",
    "  \n",
    "  if t1.cidx <= t_split.cidx\n",
    "    return P.P[t1, t2]\n",
    "  elseif t1.cidx > t_split.cidx && t2.cidx < t_split.cidx\n",
    "    return im * P.P0[t1, t_split] * P.P[t_split, t2]\n",
    "  elseif t2.cidx >= t_split.cidx\n",
    "    return P.P0[t1, t2]\n",
    "  else\n",
    "    error(\"unreachable\")\n",
    "  end\n",
    "end\n",
    "\n",
    "struct InchParams\n",
    "  max_order::Int\n",
    "end\n",
    "InchParams(; max_order = 1) = InchParams(max_order)\n",
    "\n",
    "struct InchData{T <: AbstractTimeGF, U <: AbstractTimeGrid}\n",
    "  P0::Array{T,1} # bare propagator\n",
    "  P::Array{T,1} # dressed propagator\n",
    "  Δ::Array{T, 1} # hybridization function\n",
    "  G::Array{T,1} # green's function\n",
    "\n",
    "  grid::U # time grid\n",
    "  states::NTuple{4, FockState}\n",
    "  spins::Tuple{SpinEnum, SpinEnum}\n",
    "end\n",
    "\n",
    "\n",
    "function InchData(P0, Δ)\n",
    "  states = ntuple(i -> FockState(i-1), 4)\n",
    "  spins = instances(SpinEnum)\n",
    "\n",
    "  statesize = length(states)\n",
    "  indexsize = length(spins)\n",
    "\n",
    "  @assert length(P0) == statesize\n",
    "  @assert length(Δ) == indexsize\n",
    "\n",
    "  grid = first(P0).grid\n",
    "\n",
    "  X = P0[1]\n",
    "  P = [zero(X) for _ in 1:statesize]\n",
    "  G = [zero(X) for _ in 1:indexsize]\n",
    "\n",
    "  InchData(P0, P, Δ, G, grid, states, spins)\n",
    "end\n",
    "\n",
    "function inch_order0(data::InchData, t1::TimeGridPoint, t2::TimeGridPoint, st::FockState)\n",
    "  @assert t1.cidx >= t2.cidx\n",
    "  \n",
    "  if t1.cidx == t2.cidx\n",
    "    return data.P0[st][t1, t2]\n",
    "  end\n",
    "  \n",
    "  P0, P, Δ, grid = data.P0, data.P, data.Δ, data.grid\n",
    "  \n",
    "  t_split = grid[t1.cidx - 1]\n",
    "  P_split = [SplitPropagator(P[s], P0[s], t_split) for s in 1:4]\n",
    "  return P_split[st][t1, t2]\n",
    "end\n",
    "\n",
    "function inch_order1(data::InchData, t1::TimeGridPoint, t4::TimeGridPoint, st::FockState)\n",
    "  @assert t1.cidx >= t4.cidx\n",
    "  \n",
    "  if t1.cidx == t4.cidx\n",
    "    return 0.0im\n",
    "  end\n",
    "  \n",
    "  P0, P, Δ, grid = data.P0, data.P, data.Δ, data.grid\n",
    "  \n",
    "  grid = P[1].grid\n",
    "  \n",
    "  t_split = grid[t1.cidx - 1]\n",
    "  P_split = [SplitPropagator(P[s], P0[s], t_split) for s in 1:4]\n",
    "  \n",
    "  sum(data.spins) do sp\n",
    "    s0 = st\n",
    "    s1 = flip(st, sp)\n",
    "    s2 = st\n",
    "    \n",
    "    hyb = (t2, t3) -> st[sp] ? Δ[sp][t2, t3] : -Δ[sp][t3, t2, false]\n",
    "    loc = (t2, t3) -> im * P_split[s2][t1, t2] * P_split[s1][t2, t3] * P_split[s0][t3, t4]\n",
    "    \n",
    "    f = t2 -> integrate(t3 -> hyb(t2, t3) * loc(t2, t3), grid, t2, t4)\n",
    "    return integrate(f, grid, t1, t_split)\n",
    "  end\n",
    "end\n",
    "\n",
    "function inch!(data::InchData, t1::TimeGridPoint, t2::TimeGridPoint, params::InchParams)\n",
    "  for st in data.states\n",
    "    x = inch_order0(data, t1, t2, st)\n",
    "    params.max_order > 0 && (x += inch_order1(data, t1, t2, st))\n",
    "    data.P[st][t1,t2] = x\n",
    "  end\n",
    "end\n",
    "\n",
    "\n",
    "function inch!(data::InchData, params::InchParams)\n",
    "  N = length(data.grid)\n",
    "  for d in 0:(N-1) # solve diagonal by diagonal\n",
    "    for j in 1:(N-d)\n",
    "      i = j + d\n",
    "      t1 = data.grid[i]\n",
    "      t2 = data.grid[j]\n",
    "      inch!(data, t1, t2, params)\n",
    "    end\n",
    "  end\n",
    "\n",
    "  return data\n",
    "end"
   ]
  },
  {
   "cell_type": "code",
   "execution_count": 8,
   "id": "vanilla-philadelphia",
   "metadata": {},
   "outputs": [
    {
     "data": {
      "text/plain": [
       "make_bare_prop (generic function with 2 methods)"
      ]
     },
     "execution_count": 8,
     "metadata": {},
     "output_type": "execute_result"
    }
   ],
   "source": [
    "function make_bare_prop(grid::KeldyshTimeGrid, ρ, ϵ, U)\n",
    "  E = [0.0, ϵ, ϵ, 2*ϵ + U]\n",
    "  ξ = [1.0, -1.0, -1.0, 1.0]\n",
    "  P = map(1:4) do s\n",
    "    GenericTimeGF(grid, 1, true) do t1, t2\n",
    "      t1.cidx < t2.cidx && return 0.0\n",
    "      ϕ = integrate(t -> E[s], grid, t1, t2)\n",
    "      heaviside(t1.bpoint, t2.bpoint) ? -im * exp(-im * ϕ) : -im * ξ[s] * ρ[s] * exp(-im * ϕ)\n",
    "    end\n",
    "  end\n",
    "  return P\n",
    "end\n",
    "\n",
    "function make_bare_prop(grid::FullTimeGrid, ϵ, U)\n",
    "  E = [0.0, ϵ, ϵ, 2*ϵ + U]\n",
    "  ξ = [1.0, -1.0, -1.0, 1.0]\n",
    "  P = map(1:4) do s\n",
    "    GenericTimeGF(grid, 1, true) do t1, t2\n",
    "      t1.cidx < t2.cidx && return 0.0\n",
    "      ϕ = integrate(t -> E[s], grid, t1, t2)\n",
    "      heaviside(t1.bpoint, t2.bpoint) ? -im * exp(-im * ϕ) : -im * ξ[s] * exp(-im * ϕ)\n",
    "    end\n",
    "  end\n",
    "  return P\n",
    "end"
   ]
  },
  {
   "cell_type": "code",
   "execution_count": 9,
   "id": "ready-aging",
   "metadata": {},
   "outputs": [
    {
     "data": {
      "text/plain": [
       "populations"
      ]
     },
     "execution_count": 9,
     "metadata": {},
     "output_type": "execute_result"
    }
   ],
   "source": [
    "\"\"\"\n",
    "Compute the populations (i.e. the diagonal components of the impurity density matrix) from a propagator\n",
    "\"\"\"\n",
    "function populations(P)\n",
    "  nstates = length(P)\n",
    "  ξ = [1.0, -1.0, -1.0, 1.0]\n",
    "  P_lsr_diag = reduce(hcat, (1.0im * ξ[s] * diag(P[s][:lesser]) for s in 1:nstates))\n",
    "  Zt = sum(P_lsr_diag, dims=2)\n",
    "  ρt = P_lsr_diag ./ Zt\n",
    "  return ρt, Zt\n",
    "end"
   ]
  },
  {
   "cell_type": "code",
   "execution_count": 10,
   "id": "catholic-warrior",
   "metadata": {},
   "outputs": [
    {
     "data": {
      "image/png": "[encoded data removed]",
      "text/plain": [
       "Figure(PyObject <Figure size 640x480 with 4 Axes>)"
      ]
     },
     "metadata": {},
     "output_type": "display_data"
    }
   ],
   "source": [
    "function run_inch_keldysh()\n",
    "  tmax = 2.0\n",
    "  β = 2.0\n",
    "  nt = 41\n",
    "  \n",
    "  c = twist(KeldyshContour(; tmax))\n",
    "  grid = KeldyshTimeGrid(c, nt)\n",
    "  \n",
    "  ρ = [1.0, 0.0, 0.0, 0.0]\n",
    "  ϵ = -4.0\n",
    "  U = 8.0\n",
    "  P0 = make_bare_prop(grid, ρ, ϵ, U)\n",
    "  \n",
    "  dos = flat_dos(;D=10.0, ν=10.0)\n",
    "  Δ = [GenericTimeGF(dos, β, grid) for s in 1:2]\n",
    "  \n",
    "  nca_params = NCAParams(max_order = 1)\n",
    "  nca_data = NCAData(P0, Δ)\n",
    "  nca!(nca_data, nca_params)\n",
    "  \n",
    "  inch_params = InchParams(max_order = 1)\n",
    "  inch_data = InchData(P0, Δ)\n",
    "  inch!(inch_data, inch_params)\n",
    "  \n",
    "  t = collect(realtimes(grid))\n",
    "  \n",
    "  ρt_nca, Zt_nca = populations(nca_data.P)\n",
    "  ρt_inch, Zt_inch = populations(inch_data.P)\n",
    "  \n",
    "  fig, axes = plt.subplots(ncols=4, sharey=true)\n",
    "  \n",
    "  for s in 1:4\n",
    "    axes[s].plot(t, real(ρt_nca[:,s]))\n",
    "    axes[s].plot(t, real(ρt_inch[:,s]), \"--\")\n",
    "  end\n",
    "\n",
    "end\n",
    "\n",
    "run_inch_keldysh()"
   ]
  },
  {
   "cell_type": "code",
   "execution_count": 11,
   "id": "handy-acceptance",
   "metadata": {},
   "outputs": [
    {
     "data": {
      "image/png": "[encoded data removed]",
      "text/plain": [
       "Figure(PyObject <Figure size 640x480 with 4 Axes>)"
      ]
     },
     "metadata": {},
     "output_type": "display_data"
    }
   ],
   "source": [
    "function run_inch_full()\n",
    "  tmax = 2.0\n",
    "  β = 2.0\n",
    "  nt = 41\n",
    "  nτ = 41\n",
    "  \n",
    "  c = twist(FullContour(; tmax, β))\n",
    "  grid = FullTimeGrid(c, nt, nτ)\n",
    "  \n",
    "  ϵ = -4.0\n",
    "  U = 8.0\n",
    "  P0 = make_bare_prop(grid, ϵ, U)\n",
    "  \n",
    "  dos = flat_dos(;D=10.0, ν=10.0)\n",
    "  Δ = [GenericTimeGF(dos, grid) for s in 1:2]\n",
    "  \n",
    "  nca_params = NCAParams(max_order = 1)\n",
    "  nca_data = NCAData(P0, Δ)\n",
    "  nca!(nca_data, nca_params)\n",
    "  \n",
    "  inch_params = InchParams(max_order = 1)\n",
    "  inch_data = InchData(P0, Δ)\n",
    "  inch!(inch_data, inch_params)\n",
    "  \n",
    "  t = collect(realtimes(grid))\n",
    "  \n",
    "  ρt_nca, Zt_nca = populations(nca_data.P)\n",
    "  ρt_inch, Zt_inch = populations(inch_data.P)\n",
    "  \n",
    "  fig, axes = plt.subplots(ncols=4, sharey=true)\n",
    "  \n",
    "  for s in 1:4\n",
    "    axes[s].plot(t, real(ρt_nca[:,s]))\n",
    "    axes[s].plot(t, real(ρt_inch[:,s]), \"--\")\n",
    "  end\n",
    "\n",
    "end\n",
    "\n",
    "run_inch_full()"
   ]
  }
 ],
 "metadata": {
  "kernelspec": {
   "display_name": "Julia 1.9.4",
   "language": "julia",
   "name": "julia-1.9"
  },
  "language_info": {
   "file_extension": ".jl",
   "mimetype": "application/julia",
   "name": "julia",
   "version": "1.9.4"
  }
 },
 "nbformat": 4,
 "nbformat_minor": 5
}
